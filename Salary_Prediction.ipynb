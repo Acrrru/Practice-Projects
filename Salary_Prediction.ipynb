{
 "cells": [
  {
   "cell_type": "markdown",
   "id": "30890fc7",
   "metadata": {},
   "source": [
    "# Salary Prediction:-"
   ]
  },
  {
   "cell_type": "code",
   "execution_count": 2,
   "id": "a0b68c65",
   "metadata": {},
   "outputs": [],
   "source": [
    "import numpy as np\n",
    "import pandas as pd\n",
    "import matplotlib.pyplot as plt\n",
    "import seaborn as sns\n",
    "import scipy\n",
    "import sklearn\n",
    "\n",
    "import warnings\n",
    "warnings.filterwarnings('ignore')"
   ]
  },
  {
   "cell_type": "markdown",
   "id": "3cf1aa87",
   "metadata": {},
   "source": [
    "# Importing the dataset:-"
   ]
  },
  {
   "cell_type": "code",
   "execution_count": 3,
   "id": "becb033c",
   "metadata": {},
   "outputs": [
    {
     "data": {
      "text/html": [
       "<div>\n",
       "<style scoped>\n",
       "    .dataframe tbody tr th:only-of-type {\n",
       "        vertical-align: middle;\n",
       "    }\n",
       "\n",
       "    .dataframe tbody tr th {\n",
       "        vertical-align: top;\n",
       "    }\n",
       "\n",
       "    .dataframe thead th {\n",
       "        text-align: right;\n",
       "    }\n",
       "</style>\n",
       "<table border=\"1\" class=\"dataframe\">\n",
       "  <thead>\n",
       "    <tr style=\"text-align: right;\">\n",
       "      <th></th>\n",
       "      <th>rank</th>\n",
       "      <th>discipline</th>\n",
       "      <th>yrs.since.phd</th>\n",
       "      <th>yrs.service</th>\n",
       "      <th>sex</th>\n",
       "      <th>salary</th>\n",
       "    </tr>\n",
       "  </thead>\n",
       "  <tbody>\n",
       "    <tr>\n",
       "      <th>0</th>\n",
       "      <td>Prof</td>\n",
       "      <td>B</td>\n",
       "      <td>19</td>\n",
       "      <td>18</td>\n",
       "      <td>Male</td>\n",
       "      <td>139750</td>\n",
       "    </tr>\n",
       "    <tr>\n",
       "      <th>1</th>\n",
       "      <td>Prof</td>\n",
       "      <td>B</td>\n",
       "      <td>20</td>\n",
       "      <td>16</td>\n",
       "      <td>Male</td>\n",
       "      <td>173200</td>\n",
       "    </tr>\n",
       "    <tr>\n",
       "      <th>2</th>\n",
       "      <td>AsstProf</td>\n",
       "      <td>B</td>\n",
       "      <td>4</td>\n",
       "      <td>3</td>\n",
       "      <td>Male</td>\n",
       "      <td>79750</td>\n",
       "    </tr>\n",
       "    <tr>\n",
       "      <th>3</th>\n",
       "      <td>Prof</td>\n",
       "      <td>B</td>\n",
       "      <td>45</td>\n",
       "      <td>39</td>\n",
       "      <td>Male</td>\n",
       "      <td>115000</td>\n",
       "    </tr>\n",
       "    <tr>\n",
       "      <th>4</th>\n",
       "      <td>Prof</td>\n",
       "      <td>B</td>\n",
       "      <td>40</td>\n",
       "      <td>41</td>\n",
       "      <td>Male</td>\n",
       "      <td>141500</td>\n",
       "    </tr>\n",
       "    <tr>\n",
       "      <th>...</th>\n",
       "      <td>...</td>\n",
       "      <td>...</td>\n",
       "      <td>...</td>\n",
       "      <td>...</td>\n",
       "      <td>...</td>\n",
       "      <td>...</td>\n",
       "    </tr>\n",
       "    <tr>\n",
       "      <th>392</th>\n",
       "      <td>Prof</td>\n",
       "      <td>A</td>\n",
       "      <td>33</td>\n",
       "      <td>30</td>\n",
       "      <td>Male</td>\n",
       "      <td>103106</td>\n",
       "    </tr>\n",
       "    <tr>\n",
       "      <th>393</th>\n",
       "      <td>Prof</td>\n",
       "      <td>A</td>\n",
       "      <td>31</td>\n",
       "      <td>19</td>\n",
       "      <td>Male</td>\n",
       "      <td>150564</td>\n",
       "    </tr>\n",
       "    <tr>\n",
       "      <th>394</th>\n",
       "      <td>Prof</td>\n",
       "      <td>A</td>\n",
       "      <td>42</td>\n",
       "      <td>25</td>\n",
       "      <td>Male</td>\n",
       "      <td>101738</td>\n",
       "    </tr>\n",
       "    <tr>\n",
       "      <th>395</th>\n",
       "      <td>Prof</td>\n",
       "      <td>A</td>\n",
       "      <td>25</td>\n",
       "      <td>15</td>\n",
       "      <td>Male</td>\n",
       "      <td>95329</td>\n",
       "    </tr>\n",
       "    <tr>\n",
       "      <th>396</th>\n",
       "      <td>AsstProf</td>\n",
       "      <td>A</td>\n",
       "      <td>8</td>\n",
       "      <td>4</td>\n",
       "      <td>Male</td>\n",
       "      <td>81035</td>\n",
       "    </tr>\n",
       "  </tbody>\n",
       "</table>\n",
       "<p>397 rows × 6 columns</p>\n",
       "</div>"
      ],
      "text/plain": [
       "         rank discipline  yrs.since.phd  yrs.service   sex  salary\n",
       "0        Prof          B             19           18  Male  139750\n",
       "1        Prof          B             20           16  Male  173200\n",
       "2    AsstProf          B              4            3  Male   79750\n",
       "3        Prof          B             45           39  Male  115000\n",
       "4        Prof          B             40           41  Male  141500\n",
       "..        ...        ...            ...          ...   ...     ...\n",
       "392      Prof          A             33           30  Male  103106\n",
       "393      Prof          A             31           19  Male  150564\n",
       "394      Prof          A             42           25  Male  101738\n",
       "395      Prof          A             25           15  Male   95329\n",
       "396  AsstProf          A              8            4  Male   81035\n",
       "\n",
       "[397 rows x 6 columns]"
      ]
     },
     "execution_count": 3,
     "metadata": {},
     "output_type": "execute_result"
    }
   ],
   "source": [
    "data=pd.read_csv('Salaries_Project.csv')\n",
    "data"
   ]
  },
  {
   "cell_type": "code",
   "execution_count": 4,
   "id": "82990753",
   "metadata": {},
   "outputs": [
    {
     "data": {
      "text/plain": [
       "(397, 6)"
      ]
     },
     "execution_count": 4,
     "metadata": {},
     "output_type": "execute_result"
    }
   ],
   "source": [
    "data.shape"
   ]
  },
  {
   "cell_type": "code",
   "execution_count": 5,
   "id": "5ac3139c",
   "metadata": {
    "scrolled": false
   },
   "outputs": [
    {
     "data": {
      "text/html": [
       "<div>\n",
       "<style scoped>\n",
       "    .dataframe tbody tr th:only-of-type {\n",
       "        vertical-align: middle;\n",
       "    }\n",
       "\n",
       "    .dataframe tbody tr th {\n",
       "        vertical-align: top;\n",
       "    }\n",
       "\n",
       "    .dataframe thead th {\n",
       "        text-align: right;\n",
       "    }\n",
       "</style>\n",
       "<table border=\"1\" class=\"dataframe\">\n",
       "  <thead>\n",
       "    <tr style=\"text-align: right;\">\n",
       "      <th></th>\n",
       "      <th>rank</th>\n",
       "      <th>discipline</th>\n",
       "      <th>yrs.since.phd</th>\n",
       "      <th>yrs.service</th>\n",
       "      <th>sex</th>\n",
       "      <th>salary</th>\n",
       "    </tr>\n",
       "  </thead>\n",
       "  <tbody>\n",
       "    <tr>\n",
       "      <th>0</th>\n",
       "      <td>Prof</td>\n",
       "      <td>B</td>\n",
       "      <td>19</td>\n",
       "      <td>18</td>\n",
       "      <td>Male</td>\n",
       "      <td>139750</td>\n",
       "    </tr>\n",
       "    <tr>\n",
       "      <th>1</th>\n",
       "      <td>Prof</td>\n",
       "      <td>B</td>\n",
       "      <td>20</td>\n",
       "      <td>16</td>\n",
       "      <td>Male</td>\n",
       "      <td>173200</td>\n",
       "    </tr>\n",
       "    <tr>\n",
       "      <th>2</th>\n",
       "      <td>AsstProf</td>\n",
       "      <td>B</td>\n",
       "      <td>4</td>\n",
       "      <td>3</td>\n",
       "      <td>Male</td>\n",
       "      <td>79750</td>\n",
       "    </tr>\n",
       "    <tr>\n",
       "      <th>3</th>\n",
       "      <td>Prof</td>\n",
       "      <td>B</td>\n",
       "      <td>45</td>\n",
       "      <td>39</td>\n",
       "      <td>Male</td>\n",
       "      <td>115000</td>\n",
       "    </tr>\n",
       "    <tr>\n",
       "      <th>4</th>\n",
       "      <td>Prof</td>\n",
       "      <td>B</td>\n",
       "      <td>40</td>\n",
       "      <td>41</td>\n",
       "      <td>Male</td>\n",
       "      <td>141500</td>\n",
       "    </tr>\n",
       "  </tbody>\n",
       "</table>\n",
       "</div>"
      ],
      "text/plain": [
       "       rank discipline  yrs.since.phd  yrs.service   sex  salary\n",
       "0      Prof          B             19           18  Male  139750\n",
       "1      Prof          B             20           16  Male  173200\n",
       "2  AsstProf          B              4            3  Male   79750\n",
       "3      Prof          B             45           39  Male  115000\n",
       "4      Prof          B             40           41  Male  141500"
      ]
     },
     "execution_count": 5,
     "metadata": {},
     "output_type": "execute_result"
    }
   ],
   "source": [
    "data.head()"
   ]
  },
  {
   "cell_type": "code",
   "execution_count": 6,
   "id": "379be9d5",
   "metadata": {},
   "outputs": [
    {
     "data": {
      "text/plain": [
       "Index(['rank', 'discipline', 'yrs.since.phd', 'yrs.service', 'sex', 'salary'], dtype='object')"
      ]
     },
     "execution_count": 6,
     "metadata": {},
     "output_type": "execute_result"
    }
   ],
   "source": [
    "data.columns"
   ]
  },
  {
   "cell_type": "markdown",
   "id": "67bdf7f1",
   "metadata": {},
   "source": [
    "# Data Cleaning:-"
   ]
  },
  {
   "cell_type": "code",
   "execution_count": 7,
   "id": "84dd7c7a",
   "metadata": {},
   "outputs": [
    {
     "data": {
      "text/plain": [
       "rank             0\n",
       "discipline       0\n",
       "yrs.since.phd    0\n",
       "yrs.service      0\n",
       "sex              0\n",
       "salary           0\n",
       "dtype: int64"
      ]
     },
     "execution_count": 7,
     "metadata": {},
     "output_type": "execute_result"
    }
   ],
   "source": [
    "# Checking for null values:-\n",
    "\n",
    "data.isnull().sum()"
   ]
  },
  {
   "cell_type": "markdown",
   "id": "4e294ae7",
   "metadata": {},
   "source": [
    "So, no null values are there in the dataset."
   ]
  },
  {
   "cell_type": "code",
   "execution_count": 8,
   "id": "ad5abaae",
   "metadata": {},
   "outputs": [
    {
     "data": {
      "text/plain": [
       "array(['rank', 'discipline', 'yrs.since.phd', 'yrs.service', 'sex',\n",
       "       'salary'], dtype=object)"
      ]
     },
     "execution_count": 8,
     "metadata": {},
     "output_type": "execute_result"
    }
   ],
   "source": [
    "data.columns.values"
   ]
  },
  {
   "cell_type": "code",
   "execution_count": 9,
   "id": "f6765765",
   "metadata": {},
   "outputs": [],
   "source": [
    "from scipy.stats import zscore"
   ]
  },
  {
   "cell_type": "code",
   "execution_count": 10,
   "id": "c3f514f3",
   "metadata": {},
   "outputs": [
    {
     "data": {
      "text/plain": [
       "43     231545\n",
       "364    205500\n",
       "249    204000\n",
       "271    194800\n",
       "77     193000\n",
       "        ...  \n",
       "317     67559\n",
       "226     63900\n",
       "237     63100\n",
       "123     62884\n",
       "282     57800\n",
       "Name: salary, Length: 397, dtype: int64"
      ]
     },
     "execution_count": 10,
     "metadata": {},
     "output_type": "execute_result"
    }
   ],
   "source": [
    "data.salary.sort_values(ascending=False)"
   ]
  },
  {
   "cell_type": "code",
   "execution_count": 11,
   "id": "37266b5f",
   "metadata": {},
   "outputs": [
    {
     "data": {
      "text/plain": [
       "114    Female\n",
       "316    Female\n",
       "237    Female\n",
       "179    Female\n",
       "90     Female\n",
       "        ...  \n",
       "139      Male\n",
       "138      Male\n",
       "137      Male\n",
       "146      Male\n",
       "396      Male\n",
       "Name: sex, Length: 397, dtype: object"
      ]
     },
     "execution_count": 11,
     "metadata": {},
     "output_type": "execute_result"
    }
   ],
   "source": [
    "data.sex.sort_values()"
   ]
  },
  {
   "cell_type": "code",
   "execution_count": 12,
   "id": "71fdb44d",
   "metadata": {},
   "outputs": [
    {
     "data": {
      "text/plain": [
       "rank             object\n",
       "discipline       object\n",
       "yrs.since.phd     int64\n",
       "yrs.service       int64\n",
       "sex              object\n",
       "salary            int64\n",
       "dtype: object"
      ]
     },
     "execution_count": 12,
     "metadata": {},
     "output_type": "execute_result"
    }
   ],
   "source": [
    "data.dtypes"
   ]
  },
  {
   "cell_type": "markdown",
   "id": "eab6d158",
   "metadata": {},
   "source": [
    "Here, we can observe that rank, discipline and sex is of object type(categorical), so we have to convert these parameters\n",
    "into integer type."
   ]
  },
  {
   "cell_type": "code",
   "execution_count": 13,
   "id": "70f0b2e1",
   "metadata": {},
   "outputs": [
    {
     "name": "stdout",
     "output_type": "stream",
     "text": [
      "<class 'pandas.core.frame.DataFrame'>\n",
      "RangeIndex: 397 entries, 0 to 396\n",
      "Data columns (total 6 columns):\n",
      " #   Column         Non-Null Count  Dtype \n",
      "---  ------         --------------  ----- \n",
      " 0   rank           397 non-null    object\n",
      " 1   discipline     397 non-null    object\n",
      " 2   yrs.since.phd  397 non-null    int64 \n",
      " 3   yrs.service    397 non-null    int64 \n",
      " 4   sex            397 non-null    object\n",
      " 5   salary         397 non-null    int64 \n",
      "dtypes: int64(3), object(3)\n",
      "memory usage: 18.7+ KB\n"
     ]
    }
   ],
   "source": [
    "data.info()"
   ]
  },
  {
   "cell_type": "code",
   "execution_count": 14,
   "id": "bef92ffb",
   "metadata": {},
   "outputs": [
    {
     "data": {
      "text/html": [
       "<div>\n",
       "<style scoped>\n",
       "    .dataframe tbody tr th:only-of-type {\n",
       "        vertical-align: middle;\n",
       "    }\n",
       "\n",
       "    .dataframe tbody tr th {\n",
       "        vertical-align: top;\n",
       "    }\n",
       "\n",
       "    .dataframe thead th {\n",
       "        text-align: right;\n",
       "    }\n",
       "</style>\n",
       "<table border=\"1\" class=\"dataframe\">\n",
       "  <thead>\n",
       "    <tr style=\"text-align: right;\">\n",
       "      <th></th>\n",
       "      <th>yrs.since.phd</th>\n",
       "      <th>yrs.service</th>\n",
       "      <th>salary</th>\n",
       "    </tr>\n",
       "  </thead>\n",
       "  <tbody>\n",
       "    <tr>\n",
       "      <th>count</th>\n",
       "      <td>397.000000</td>\n",
       "      <td>397.000000</td>\n",
       "      <td>397.000000</td>\n",
       "    </tr>\n",
       "    <tr>\n",
       "      <th>mean</th>\n",
       "      <td>22.314861</td>\n",
       "      <td>17.614610</td>\n",
       "      <td>113706.458438</td>\n",
       "    </tr>\n",
       "    <tr>\n",
       "      <th>std</th>\n",
       "      <td>12.887003</td>\n",
       "      <td>13.006024</td>\n",
       "      <td>30289.038695</td>\n",
       "    </tr>\n",
       "    <tr>\n",
       "      <th>min</th>\n",
       "      <td>1.000000</td>\n",
       "      <td>0.000000</td>\n",
       "      <td>57800.000000</td>\n",
       "    </tr>\n",
       "    <tr>\n",
       "      <th>25%</th>\n",
       "      <td>12.000000</td>\n",
       "      <td>7.000000</td>\n",
       "      <td>91000.000000</td>\n",
       "    </tr>\n",
       "    <tr>\n",
       "      <th>50%</th>\n",
       "      <td>21.000000</td>\n",
       "      <td>16.000000</td>\n",
       "      <td>107300.000000</td>\n",
       "    </tr>\n",
       "    <tr>\n",
       "      <th>75%</th>\n",
       "      <td>32.000000</td>\n",
       "      <td>27.000000</td>\n",
       "      <td>134185.000000</td>\n",
       "    </tr>\n",
       "    <tr>\n",
       "      <th>max</th>\n",
       "      <td>56.000000</td>\n",
       "      <td>60.000000</td>\n",
       "      <td>231545.000000</td>\n",
       "    </tr>\n",
       "  </tbody>\n",
       "</table>\n",
       "</div>"
      ],
      "text/plain": [
       "       yrs.since.phd  yrs.service         salary\n",
       "count     397.000000   397.000000     397.000000\n",
       "mean       22.314861    17.614610  113706.458438\n",
       "std        12.887003    13.006024   30289.038695\n",
       "min         1.000000     0.000000   57800.000000\n",
       "25%        12.000000     7.000000   91000.000000\n",
       "50%        21.000000    16.000000  107300.000000\n",
       "75%        32.000000    27.000000  134185.000000\n",
       "max        56.000000    60.000000  231545.000000"
      ]
     },
     "execution_count": 14,
     "metadata": {},
     "output_type": "execute_result"
    }
   ],
   "source": [
    "data.describe()"
   ]
  },
  {
   "cell_type": "code",
   "execution_count": null,
   "id": "957a8da8",
   "metadata": {},
   "outputs": [],
   "source": [
    "# Data Wrangling"
   ]
  },
  {
   "cell_type": "code",
   "execution_count": 15,
   "id": "2b1345fd",
   "metadata": {},
   "outputs": [],
   "source": [
    "rank=data.groupby(\"rank\").mean()"
   ]
  },
  {
   "cell_type": "code",
   "execution_count": 16,
   "id": "98152b16",
   "metadata": {},
   "outputs": [
    {
     "data": {
      "text/html": [
       "<div>\n",
       "<style scoped>\n",
       "    .dataframe tbody tr th:only-of-type {\n",
       "        vertical-align: middle;\n",
       "    }\n",
       "\n",
       "    .dataframe tbody tr th {\n",
       "        vertical-align: top;\n",
       "    }\n",
       "\n",
       "    .dataframe thead th {\n",
       "        text-align: right;\n",
       "    }\n",
       "</style>\n",
       "<table border=\"1\" class=\"dataframe\">\n",
       "  <thead>\n",
       "    <tr style=\"text-align: right;\">\n",
       "      <th></th>\n",
       "      <th>yrs.since.phd</th>\n",
       "      <th>yrs.service</th>\n",
       "      <th>salary</th>\n",
       "    </tr>\n",
       "    <tr>\n",
       "      <th>rank</th>\n",
       "      <th></th>\n",
       "      <th></th>\n",
       "      <th></th>\n",
       "    </tr>\n",
       "  </thead>\n",
       "  <tbody>\n",
       "    <tr>\n",
       "      <th>AssocProf</th>\n",
       "      <td>15.453125</td>\n",
       "      <td>11.953125</td>\n",
       "      <td>93876.437500</td>\n",
       "    </tr>\n",
       "    <tr>\n",
       "      <th>AsstProf</th>\n",
       "      <td>5.104478</td>\n",
       "      <td>2.373134</td>\n",
       "      <td>80775.985075</td>\n",
       "    </tr>\n",
       "    <tr>\n",
       "      <th>Prof</th>\n",
       "      <td>28.300752</td>\n",
       "      <td>22.815789</td>\n",
       "      <td>126772.109023</td>\n",
       "    </tr>\n",
       "  </tbody>\n",
       "</table>\n",
       "</div>"
      ],
      "text/plain": [
       "           yrs.since.phd  yrs.service         salary\n",
       "rank                                                \n",
       "AssocProf      15.453125    11.953125   93876.437500\n",
       "AsstProf        5.104478     2.373134   80775.985075\n",
       "Prof           28.300752    22.815789  126772.109023"
      ]
     },
     "execution_count": 16,
     "metadata": {},
     "output_type": "execute_result"
    }
   ],
   "source": [
    "rank"
   ]
  },
  {
   "cell_type": "code",
   "execution_count": 17,
   "id": "72cb180b",
   "metadata": {},
   "outputs": [
    {
     "data": {
      "text/plain": [
       "array(['Prof', 'AsstProf', 'AssocProf'], dtype=object)"
      ]
     },
     "execution_count": 17,
     "metadata": {},
     "output_type": "execute_result"
    }
   ],
   "source": [
    "data['rank'].unique()"
   ]
  },
  {
   "cell_type": "code",
   "execution_count": 18,
   "id": "3ac91742",
   "metadata": {},
   "outputs": [
    {
     "data": {
      "text/html": [
       "<div>\n",
       "<style scoped>\n",
       "    .dataframe tbody tr th:only-of-type {\n",
       "        vertical-align: middle;\n",
       "    }\n",
       "\n",
       "    .dataframe tbody tr th {\n",
       "        vertical-align: top;\n",
       "    }\n",
       "\n",
       "    .dataframe thead th {\n",
       "        text-align: right;\n",
       "    }\n",
       "</style>\n",
       "<table border=\"1\" class=\"dataframe\">\n",
       "  <thead>\n",
       "    <tr style=\"text-align: right;\">\n",
       "      <th></th>\n",
       "      <th>yrs.since.phd</th>\n",
       "      <th>yrs.service</th>\n",
       "      <th>salary</th>\n",
       "    </tr>\n",
       "    <tr>\n",
       "      <th>rank</th>\n",
       "      <th></th>\n",
       "      <th></th>\n",
       "      <th></th>\n",
       "    </tr>\n",
       "  </thead>\n",
       "  <tbody>\n",
       "    <tr>\n",
       "      <th>1</th>\n",
       "      <td>5.104478</td>\n",
       "      <td>2.373134</td>\n",
       "      <td>80775.985075</td>\n",
       "    </tr>\n",
       "    <tr>\n",
       "      <th>2</th>\n",
       "      <td>15.453125</td>\n",
       "      <td>11.953125</td>\n",
       "      <td>93876.437500</td>\n",
       "    </tr>\n",
       "    <tr>\n",
       "      <th>3</th>\n",
       "      <td>28.300752</td>\n",
       "      <td>22.815789</td>\n",
       "      <td>126772.109023</td>\n",
       "    </tr>\n",
       "  </tbody>\n",
       "</table>\n",
       "</div>"
      ],
      "text/plain": [
       "      yrs.since.phd  yrs.service         salary\n",
       "rank                                           \n",
       "1          5.104478     2.373134   80775.985075\n",
       "2         15.453125    11.953125   93876.437500\n",
       "3         28.300752    22.815789  126772.109023"
      ]
     },
     "execution_count": 18,
     "metadata": {},
     "output_type": "execute_result"
    }
   ],
   "source": [
    "rank_d={'Prof':3,'AssocProf':2,'AsstProf':1}\n",
    "updated_data=data.copy()\n",
    "updated_data['rank']=updated_data['rank'].map(rank_d)\n",
    "updated_rank=updated_data.groupby('rank').mean()\n",
    "updated_rank"
   ]
  },
  {
   "cell_type": "code",
   "execution_count": 19,
   "id": "4582bcde",
   "metadata": {},
   "outputs": [
    {
     "data": {
      "text/plain": [
       "array(['B', 'A'], dtype=object)"
      ]
     },
     "execution_count": 19,
     "metadata": {},
     "output_type": "execute_result"
    }
   ],
   "source": [
    "data['discipline'].unique()"
   ]
  },
  {
   "cell_type": "code",
   "execution_count": 20,
   "id": "75db12c4",
   "metadata": {},
   "outputs": [
    {
     "data": {
      "text/html": [
       "<div>\n",
       "<style scoped>\n",
       "    .dataframe tbody tr th:only-of-type {\n",
       "        vertical-align: middle;\n",
       "    }\n",
       "\n",
       "    .dataframe tbody tr th {\n",
       "        vertical-align: top;\n",
       "    }\n",
       "\n",
       "    .dataframe thead th {\n",
       "        text-align: right;\n",
       "    }\n",
       "</style>\n",
       "<table border=\"1\" class=\"dataframe\">\n",
       "  <thead>\n",
       "    <tr style=\"text-align: right;\">\n",
       "      <th></th>\n",
       "      <th>yrs.since.phd</th>\n",
       "      <th>yrs.service</th>\n",
       "      <th>salary</th>\n",
       "    </tr>\n",
       "    <tr>\n",
       "      <th>discipline</th>\n",
       "      <th></th>\n",
       "      <th></th>\n",
       "      <th></th>\n",
       "    </tr>\n",
       "  </thead>\n",
       "  <tbody>\n",
       "    <tr>\n",
       "      <th>A</th>\n",
       "      <td>25.381215</td>\n",
       "      <td>19.950276</td>\n",
       "      <td>108548.430939</td>\n",
       "    </tr>\n",
       "    <tr>\n",
       "      <th>B</th>\n",
       "      <td>19.745370</td>\n",
       "      <td>15.657407</td>\n",
       "      <td>118028.694444</td>\n",
       "    </tr>\n",
       "  </tbody>\n",
       "</table>\n",
       "</div>"
      ],
      "text/plain": [
       "            yrs.since.phd  yrs.service         salary\n",
       "discipline                                           \n",
       "A               25.381215    19.950276  108548.430939\n",
       "B               19.745370    15.657407  118028.694444"
      ]
     },
     "execution_count": 20,
     "metadata": {},
     "output_type": "execute_result"
    }
   ],
   "source": [
    "discipline=data.groupby('discipline').mean()\n",
    "discipline"
   ]
  },
  {
   "cell_type": "code",
   "execution_count": 21,
   "id": "e0e082b5",
   "metadata": {},
   "outputs": [
    {
     "data": {
      "text/html": [
       "<div>\n",
       "<style scoped>\n",
       "    .dataframe tbody tr th:only-of-type {\n",
       "        vertical-align: middle;\n",
       "    }\n",
       "\n",
       "    .dataframe tbody tr th {\n",
       "        vertical-align: top;\n",
       "    }\n",
       "\n",
       "    .dataframe thead th {\n",
       "        text-align: right;\n",
       "    }\n",
       "</style>\n",
       "<table border=\"1\" class=\"dataframe\">\n",
       "  <thead>\n",
       "    <tr style=\"text-align: right;\">\n",
       "      <th></th>\n",
       "      <th>rank</th>\n",
       "      <th>yrs.since.phd</th>\n",
       "      <th>yrs.service</th>\n",
       "      <th>salary</th>\n",
       "    </tr>\n",
       "    <tr>\n",
       "      <th>discipline</th>\n",
       "      <th></th>\n",
       "      <th></th>\n",
       "      <th></th>\n",
       "      <th></th>\n",
       "    </tr>\n",
       "  </thead>\n",
       "  <tbody>\n",
       "    <tr>\n",
       "      <th>1</th>\n",
       "      <td>2.591160</td>\n",
       "      <td>25.381215</td>\n",
       "      <td>19.950276</td>\n",
       "      <td>108548.430939</td>\n",
       "    </tr>\n",
       "    <tr>\n",
       "      <th>2</th>\n",
       "      <td>2.425926</td>\n",
       "      <td>19.745370</td>\n",
       "      <td>15.657407</td>\n",
       "      <td>118028.694444</td>\n",
       "    </tr>\n",
       "  </tbody>\n",
       "</table>\n",
       "</div>"
      ],
      "text/plain": [
       "                rank  yrs.since.phd  yrs.service         salary\n",
       "discipline                                                     \n",
       "1           2.591160      25.381215    19.950276  108548.430939\n",
       "2           2.425926      19.745370    15.657407  118028.694444"
      ]
     },
     "execution_count": 21,
     "metadata": {},
     "output_type": "execute_result"
    }
   ],
   "source": [
    "discipline_d={'A':1,'B':2}\n",
    "updated_data['discipline']=updated_data['discipline'].map(discipline_d)\n",
    "updated_discipline=updated_data.groupby('discipline').mean()\n",
    "updated_discipline"
   ]
  },
  {
   "cell_type": "code",
   "execution_count": 22,
   "id": "67de25e7",
   "metadata": {},
   "outputs": [
    {
     "data": {
      "text/plain": [
       "array(['Male', 'Female'], dtype=object)"
      ]
     },
     "execution_count": 22,
     "metadata": {},
     "output_type": "execute_result"
    }
   ],
   "source": [
    "data['sex'].unique()"
   ]
  },
  {
   "cell_type": "code",
   "execution_count": 23,
   "id": "49309e61",
   "metadata": {},
   "outputs": [
    {
     "data": {
      "text/html": [
       "<div>\n",
       "<style scoped>\n",
       "    .dataframe tbody tr th:only-of-type {\n",
       "        vertical-align: middle;\n",
       "    }\n",
       "\n",
       "    .dataframe tbody tr th {\n",
       "        vertical-align: top;\n",
       "    }\n",
       "\n",
       "    .dataframe thead th {\n",
       "        text-align: right;\n",
       "    }\n",
       "</style>\n",
       "<table border=\"1\" class=\"dataframe\">\n",
       "  <thead>\n",
       "    <tr style=\"text-align: right;\">\n",
       "      <th></th>\n",
       "      <th>yrs.since.phd</th>\n",
       "      <th>yrs.service</th>\n",
       "      <th>salary</th>\n",
       "    </tr>\n",
       "    <tr>\n",
       "      <th>sex</th>\n",
       "      <th></th>\n",
       "      <th></th>\n",
       "      <th></th>\n",
       "    </tr>\n",
       "  </thead>\n",
       "  <tbody>\n",
       "    <tr>\n",
       "      <th>Female</th>\n",
       "      <td>16.512821</td>\n",
       "      <td>11.564103</td>\n",
       "      <td>101002.410256</td>\n",
       "    </tr>\n",
       "    <tr>\n",
       "      <th>Male</th>\n",
       "      <td>22.946927</td>\n",
       "      <td>18.273743</td>\n",
       "      <td>115090.418994</td>\n",
       "    </tr>\n",
       "  </tbody>\n",
       "</table>\n",
       "</div>"
      ],
      "text/plain": [
       "        yrs.since.phd  yrs.service         salary\n",
       "sex                                              \n",
       "Female      16.512821    11.564103  101002.410256\n",
       "Male        22.946927    18.273743  115090.418994"
      ]
     },
     "execution_count": 23,
     "metadata": {},
     "output_type": "execute_result"
    }
   ],
   "source": [
    "sex=data.groupby('sex').mean()\n",
    "sex"
   ]
  },
  {
   "cell_type": "code",
   "execution_count": 24,
   "id": "52323059",
   "metadata": {},
   "outputs": [
    {
     "data": {
      "text/html": [
       "<div>\n",
       "<style scoped>\n",
       "    .dataframe tbody tr th:only-of-type {\n",
       "        vertical-align: middle;\n",
       "    }\n",
       "\n",
       "    .dataframe tbody tr th {\n",
       "        vertical-align: top;\n",
       "    }\n",
       "\n",
       "    .dataframe thead th {\n",
       "        text-align: right;\n",
       "    }\n",
       "</style>\n",
       "<table border=\"1\" class=\"dataframe\">\n",
       "  <thead>\n",
       "    <tr style=\"text-align: right;\">\n",
       "      <th></th>\n",
       "      <th>rank</th>\n",
       "      <th>discipline</th>\n",
       "      <th>yrs.since.phd</th>\n",
       "      <th>yrs.service</th>\n",
       "      <th>salary</th>\n",
       "    </tr>\n",
       "    <tr>\n",
       "      <th>sex</th>\n",
       "      <th></th>\n",
       "      <th></th>\n",
       "      <th></th>\n",
       "      <th></th>\n",
       "      <th></th>\n",
       "    </tr>\n",
       "  </thead>\n",
       "  <tbody>\n",
       "    <tr>\n",
       "      <th>1</th>\n",
       "      <td>2.179487</td>\n",
       "      <td>1.538462</td>\n",
       "      <td>16.512821</td>\n",
       "      <td>11.564103</td>\n",
       "      <td>101002.410256</td>\n",
       "    </tr>\n",
       "    <tr>\n",
       "      <th>2</th>\n",
       "      <td>2.536313</td>\n",
       "      <td>1.544693</td>\n",
       "      <td>22.946927</td>\n",
       "      <td>18.273743</td>\n",
       "      <td>115090.418994</td>\n",
       "    </tr>\n",
       "  </tbody>\n",
       "</table>\n",
       "</div>"
      ],
      "text/plain": [
       "         rank  discipline  yrs.since.phd  yrs.service         salary\n",
       "sex                                                                 \n",
       "1    2.179487    1.538462      16.512821    11.564103  101002.410256\n",
       "2    2.536313    1.544693      22.946927    18.273743  115090.418994"
      ]
     },
     "execution_count": 24,
     "metadata": {},
     "output_type": "execute_result"
    }
   ],
   "source": [
    "sex_d={'Female':1,'Male':2}\n",
    "updated_data['sex']=updated_data['sex'].map(sex_d)\n",
    "updated_sex=updated_data.groupby('sex').mean()\n",
    "updated_sex"
   ]
  },
  {
   "cell_type": "markdown",
   "id": "a91f0014",
   "metadata": {},
   "source": [
    "So, all three object type column get converted into integer type."
   ]
  },
  {
   "cell_type": "code",
   "execution_count": 25,
   "id": "e0c540d7",
   "metadata": {},
   "outputs": [
    {
     "name": "stdout",
     "output_type": "stream",
     "text": [
      "<class 'pandas.core.frame.DataFrame'>\n",
      "RangeIndex: 397 entries, 0 to 396\n",
      "Data columns (total 6 columns):\n",
      " #   Column         Non-Null Count  Dtype\n",
      "---  ------         --------------  -----\n",
      " 0   rank           397 non-null    int64\n",
      " 1   discipline     397 non-null    int64\n",
      " 2   yrs.since.phd  397 non-null    int64\n",
      " 3   yrs.service    397 non-null    int64\n",
      " 4   sex            397 non-null    int64\n",
      " 5   salary         397 non-null    int64\n",
      "dtypes: int64(6)\n",
      "memory usage: 18.7 KB\n"
     ]
    }
   ],
   "source": [
    "updated_data.info()"
   ]
  },
  {
   "cell_type": "code",
   "execution_count": 26,
   "id": "1ff24c3e",
   "metadata": {},
   "outputs": [
    {
     "data": {
      "text/plain": [
       "rank             int64\n",
       "discipline       int64\n",
       "yrs.since.phd    int64\n",
       "yrs.service      int64\n",
       "sex              int64\n",
       "salary           int64\n",
       "dtype: object"
      ]
     },
     "execution_count": 26,
     "metadata": {},
     "output_type": "execute_result"
    }
   ],
   "source": [
    "updated_data.dtypes"
   ]
  },
  {
   "cell_type": "code",
   "execution_count": 27,
   "id": "99a340fe",
   "metadata": {},
   "outputs": [
    {
     "data": {
      "text/html": [
       "<div>\n",
       "<style scoped>\n",
       "    .dataframe tbody tr th:only-of-type {\n",
       "        vertical-align: middle;\n",
       "    }\n",
       "\n",
       "    .dataframe tbody tr th {\n",
       "        vertical-align: top;\n",
       "    }\n",
       "\n",
       "    .dataframe thead th {\n",
       "        text-align: right;\n",
       "    }\n",
       "</style>\n",
       "<table border=\"1\" class=\"dataframe\">\n",
       "  <thead>\n",
       "    <tr style=\"text-align: right;\">\n",
       "      <th></th>\n",
       "      <th>rank</th>\n",
       "      <th>discipline</th>\n",
       "      <th>yrs.since.phd</th>\n",
       "      <th>yrs.service</th>\n",
       "      <th>sex</th>\n",
       "      <th>salary</th>\n",
       "    </tr>\n",
       "  </thead>\n",
       "  <tbody>\n",
       "    <tr>\n",
       "      <th>0</th>\n",
       "      <td>3</td>\n",
       "      <td>2</td>\n",
       "      <td>19</td>\n",
       "      <td>18</td>\n",
       "      <td>2</td>\n",
       "      <td>139750</td>\n",
       "    </tr>\n",
       "    <tr>\n",
       "      <th>1</th>\n",
       "      <td>3</td>\n",
       "      <td>2</td>\n",
       "      <td>20</td>\n",
       "      <td>16</td>\n",
       "      <td>2</td>\n",
       "      <td>173200</td>\n",
       "    </tr>\n",
       "    <tr>\n",
       "      <th>2</th>\n",
       "      <td>1</td>\n",
       "      <td>2</td>\n",
       "      <td>4</td>\n",
       "      <td>3</td>\n",
       "      <td>2</td>\n",
       "      <td>79750</td>\n",
       "    </tr>\n",
       "    <tr>\n",
       "      <th>3</th>\n",
       "      <td>3</td>\n",
       "      <td>2</td>\n",
       "      <td>45</td>\n",
       "      <td>39</td>\n",
       "      <td>2</td>\n",
       "      <td>115000</td>\n",
       "    </tr>\n",
       "    <tr>\n",
       "      <th>4</th>\n",
       "      <td>3</td>\n",
       "      <td>2</td>\n",
       "      <td>40</td>\n",
       "      <td>41</td>\n",
       "      <td>2</td>\n",
       "      <td>141500</td>\n",
       "    </tr>\n",
       "    <tr>\n",
       "      <th>...</th>\n",
       "      <td>...</td>\n",
       "      <td>...</td>\n",
       "      <td>...</td>\n",
       "      <td>...</td>\n",
       "      <td>...</td>\n",
       "      <td>...</td>\n",
       "    </tr>\n",
       "    <tr>\n",
       "      <th>392</th>\n",
       "      <td>3</td>\n",
       "      <td>1</td>\n",
       "      <td>33</td>\n",
       "      <td>30</td>\n",
       "      <td>2</td>\n",
       "      <td>103106</td>\n",
       "    </tr>\n",
       "    <tr>\n",
       "      <th>393</th>\n",
       "      <td>3</td>\n",
       "      <td>1</td>\n",
       "      <td>31</td>\n",
       "      <td>19</td>\n",
       "      <td>2</td>\n",
       "      <td>150564</td>\n",
       "    </tr>\n",
       "    <tr>\n",
       "      <th>394</th>\n",
       "      <td>3</td>\n",
       "      <td>1</td>\n",
       "      <td>42</td>\n",
       "      <td>25</td>\n",
       "      <td>2</td>\n",
       "      <td>101738</td>\n",
       "    </tr>\n",
       "    <tr>\n",
       "      <th>395</th>\n",
       "      <td>3</td>\n",
       "      <td>1</td>\n",
       "      <td>25</td>\n",
       "      <td>15</td>\n",
       "      <td>2</td>\n",
       "      <td>95329</td>\n",
       "    </tr>\n",
       "    <tr>\n",
       "      <th>396</th>\n",
       "      <td>1</td>\n",
       "      <td>1</td>\n",
       "      <td>8</td>\n",
       "      <td>4</td>\n",
       "      <td>2</td>\n",
       "      <td>81035</td>\n",
       "    </tr>\n",
       "  </tbody>\n",
       "</table>\n",
       "<p>397 rows × 6 columns</p>\n",
       "</div>"
      ],
      "text/plain": [
       "     rank  discipline  yrs.since.phd  yrs.service  sex  salary\n",
       "0       3           2             19           18    2  139750\n",
       "1       3           2             20           16    2  173200\n",
       "2       1           2              4            3    2   79750\n",
       "3       3           2             45           39    2  115000\n",
       "4       3           2             40           41    2  141500\n",
       "..    ...         ...            ...          ...  ...     ...\n",
       "392     3           1             33           30    2  103106\n",
       "393     3           1             31           19    2  150564\n",
       "394     3           1             42           25    2  101738\n",
       "395     3           1             25           15    2   95329\n",
       "396     1           1              8            4    2   81035\n",
       "\n",
       "[397 rows x 6 columns]"
      ]
     },
     "execution_count": 27,
     "metadata": {},
     "output_type": "execute_result"
    }
   ],
   "source": [
    "updated_data"
   ]
  },
  {
   "cell_type": "code",
   "execution_count": 28,
   "id": "2d30e72a",
   "metadata": {},
   "outputs": [
    {
     "data": {
      "text/plain": [
       "(397, 6)"
      ]
     },
     "execution_count": 28,
     "metadata": {},
     "output_type": "execute_result"
    }
   ],
   "source": [
    "updated_data.shape"
   ]
  },
  {
   "cell_type": "code",
   "execution_count": 29,
   "id": "14ff5bcc",
   "metadata": {},
   "outputs": [
    {
     "data": {
      "text/plain": [
       "Index(['rank', 'discipline', 'yrs.since.phd', 'yrs.service', 'sex', 'salary'], dtype='object')"
      ]
     },
     "execution_count": 29,
     "metadata": {},
     "output_type": "execute_result"
    }
   ],
   "source": [
    "updated_data.columns"
   ]
  },
  {
   "cell_type": "code",
   "execution_count": 30,
   "id": "4f796bbb",
   "metadata": {},
   "outputs": [
    {
     "data": {
      "image/png": "[encoded data removed]",
      "text/plain": [
       "<Figure size 432x288 with 1 Axes>"
      ]
     },
     "metadata": {
      "needs_background": "light"
     },
     "output_type": "display_data"
    },
    {
     "name": "stdout",
     "output_type": "stream",
     "text": [
      "3    266\n",
      "1     67\n",
      "2     64\n",
      "Name: rank, dtype: int64\n"
     ]
    }
   ],
   "source": [
    "# Visualization:-\n",
    "\n",
    "ax=sns.countplot(x='rank',data=updated_data)\n",
    "ax\n",
    "plt.show()\n",
    "print(updated_data['rank'].value_counts())"
   ]
  },
  {
   "cell_type": "markdown",
   "id": "9f483bf2",
   "metadata": {},
   "source": [
    "Above data shows that Assistant Professors are: 67\n",
    "                      , Associate Professors are: 64\n",
    "                      and Professors are:266        "
   ]
  },
  {
   "cell_type": "code",
   "execution_count": 31,
   "id": "4e7f8ce2",
   "metadata": {},
   "outputs": [
    {
     "data": {
      "image/png": "[encoded data removed]",
      "text/plain": [
       "<Figure size 432x288 with 1 Axes>"
      ]
     },
     "metadata": {
      "needs_background": "light"
     },
     "output_type": "display_data"
    },
    {
     "name": "stdout",
     "output_type": "stream",
     "text": [
      "2    216\n",
      "1    181\n",
      "Name: discipline, dtype: int64\n"
     ]
    }
   ],
   "source": [
    "ax=sns.countplot(x='discipline',data=updated_data)\n",
    "ax\n",
    "plt.show()\n",
    "print(updated_data['discipline'].value_counts())"
   ]
  },
  {
   "cell_type": "markdown",
   "id": "0c9abf28",
   "metadata": {},
   "source": [
    "Above data shows that total no.of discipline(A):181\n",
    "                     and total no.of discipline(B):216"
   ]
  },
  {
   "cell_type": "code",
   "execution_count": 32,
   "id": "90ee85fa",
   "metadata": {},
   "outputs": [
    {
     "data": {
      "image/png": "[encoded data removed]",
      "text/plain": [
       "<Figure size 432x288 with 1 Axes>"
      ]
     },
     "metadata": {
      "needs_background": "light"
     },
     "output_type": "display_data"
    },
    {
     "name": "stdout",
     "output_type": "stream",
     "text": [
      "2    358\n",
      "1     39\n",
      "Name: sex, dtype: int64\n"
     ]
    }
   ],
   "source": [
    "ax=sns.countplot(x='sex',data=updated_data)\n",
    "ax\n",
    "plt.show()\n",
    "print(updated_data['sex'].value_counts())"
   ]
  },
  {
   "cell_type": "markdown",
   "id": "2ad3c32c",
   "metadata": {},
   "source": [
    "Above data shows that total no. of males: 358\n",
    "                      and total no. of females: 39"
   ]
  },
  {
   "cell_type": "markdown",
   "id": "a2e10ca1",
   "metadata": {},
   "source": [
    "# Correlation:-"
   ]
  },
  {
   "cell_type": "code",
   "execution_count": 33,
   "id": "5d6a7f0d",
   "metadata": {},
   "outputs": [
    {
     "data": {
      "text/plain": [
       "sex              0.138610\n",
       "discipline       0.156084\n",
       "yrs.service      0.334745\n",
       "yrs.since.phd    0.419231\n",
       "rank             0.617224\n",
       "salary           1.000000\n",
       "Name: salary, dtype: float64"
      ]
     },
     "execution_count": 33,
     "metadata": {},
     "output_type": "execute_result"
    }
   ],
   "source": [
    "# Checking the Correlation with respect to target variable(salary);-\n",
    "\n",
    "updated_data.corr()['salary'].sort_values()"
   ]
  },
  {
   "cell_type": "markdown",
   "id": "651fecf2",
   "metadata": {},
   "source": [
    "The Above observation shows a good correlation with respect to the target variable in which \n",
    "rank,yrs.since.phd and yrs.service are highly correlated."
   ]
  },
  {
   "cell_type": "code",
   "execution_count": 34,
   "id": "f27d7831",
   "metadata": {},
   "outputs": [
    {
     "data": {
      "image/png": "[encoded data removed]",
      "text/plain": [
       "<Figure size 864x432 with 2 Axes>"
      ]
     },
     "metadata": {
      "needs_background": "light"
     },
     "output_type": "display_data"
    }
   ],
   "source": [
    "plt.figure(figsize=(12,6))\n",
    "sns.heatmap(updated_data.corr(),annot=True,fmt='0.2f')\n",
    "plt.show()"
   ]
  },
  {
   "cell_type": "markdown",
   "id": "5ce8d1f6",
   "metadata": {},
   "source": [
    "# Checking for the Skewness:-"
   ]
  },
  {
   "cell_type": "code",
   "execution_count": 35,
   "id": "bcae6306",
   "metadata": {},
   "outputs": [
    {
     "data": {
      "text/plain": [
       "rank            -1.132759\n",
       "discipline      -0.177684\n",
       "yrs.since.phd    0.300880\n",
       "yrs.service      0.650569\n",
       "sex             -2.709958\n",
       "salary           0.714568\n",
       "dtype: float64"
      ]
     },
     "execution_count": 35,
     "metadata": {},
     "output_type": "execute_result"
    }
   ],
   "source": [
    "updated_data.skew()"
   ]
  },
  {
   "cell_type": "markdown",
   "id": "f4bc8203",
   "metadata": {},
   "source": [
    "Above observations shows that 'rank' and 'sex' are highley skewed among others."
   ]
  },
  {
   "cell_type": "code",
   "execution_count": 36,
   "id": "0831ee7e",
   "metadata": {},
   "outputs": [
    {
     "data": {
      "image/png": "[encoded data removed]",
      "text/plain": [
       "<Figure size 432x288 with 1 Axes>"
      ]
     },
     "metadata": {
      "needs_background": "light"
     },
     "output_type": "display_data"
    }
   ],
   "source": [
    "# checking with the distribution curve:-\n",
    "\n",
    "sns.distplot(updated_data['rank'])\n",
    "plt.show()"
   ]
  },
  {
   "cell_type": "code",
   "execution_count": 37,
   "id": "55641aaf",
   "metadata": {},
   "outputs": [
    {
     "data": {
      "image/png": "[encoded data removed]",
      "text/plain": [
       "<Figure size 432x288 with 1 Axes>"
      ]
     },
     "metadata": {
      "needs_background": "light"
     },
     "output_type": "display_data"
    }
   ],
   "source": [
    "sns.distplot(updated_data['discipline'])\n",
    "plt.show()"
   ]
  },
  {
   "cell_type": "code",
   "execution_count": 38,
   "id": "20b448a1",
   "metadata": {},
   "outputs": [
    {
     "data": {
      "image/png": "[encoded data removed]",
      "text/plain": [
       "<Figure size 432x288 with 1 Axes>"
      ]
     },
     "metadata": {
      "needs_background": "light"
     },
     "output_type": "display_data"
    }
   ],
   "source": [
    "sns.distplot(updated_data['yrs.since.phd'])\n",
    "plt.show()"
   ]
  },
  {
   "cell_type": "code",
   "execution_count": 39,
   "id": "39ba033e",
   "metadata": {},
   "outputs": [
    {
     "data": {
      "image/png": "[encoded data removed]",
      "text/plain": [
       "<Figure size 432x288 with 1 Axes>"
      ]
     },
     "metadata": {
      "needs_background": "light"
     },
     "output_type": "display_data"
    }
   ],
   "source": [
    "sns.distplot(updated_data['yrs.service'])\n",
    "plt.show()"
   ]
  },
  {
   "cell_type": "code",
   "execution_count": 40,
   "id": "fb867c67",
   "metadata": {},
   "outputs": [
    {
     "data": {
      "image/png": "[encoded data removed]",
      "text/plain": [
       "<Figure size 432x288 with 1 Axes>"
      ]
     },
     "metadata": {
      "needs_background": "light"
     },
     "output_type": "display_data"
    }
   ],
   "source": [
    "sns.distplot(updated_data['sex'])\n",
    "plt.show()"
   ]
  },
  {
   "cell_type": "code",
   "execution_count": 41,
   "id": "9f97c099",
   "metadata": {},
   "outputs": [
    {
     "data": {
      "image/png": "[encoded data removed]",
      "text/plain": [
       "<Figure size 432x288 with 1 Axes>"
      ]
     },
     "metadata": {
      "needs_background": "light"
     },
     "output_type": "display_data"
    }
   ],
   "source": [
    "sns.distplot(updated_data['salary'])\n",
    "plt.show()"
   ]
  },
  {
   "cell_type": "markdown",
   "id": "192275ac",
   "metadata": {},
   "source": [
    "Above visualization shows that all the columns are skewed, some are little skewed and some are highly skewed.\n",
    "The Data is not normalised. the building blocks is out of normalised curve."
   ]
  },
  {
   "cell_type": "markdown",
   "id": "12cff6dd",
   "metadata": {},
   "source": [
    "# Outliers Removal:-"
   ]
  },
  {
   "cell_type": "code",
   "execution_count": 42,
   "id": "deb5344c",
   "metadata": {},
   "outputs": [
    {
     "data": {
      "image/png": "[encoded data removed]",
      "text/plain": [
       "<Figure size 432x288 with 1 Axes>"
      ]
     },
     "metadata": {
      "needs_background": "light"
     },
     "output_type": "display_data"
    }
   ],
   "source": [
    "# checking the outliers with visualization:-\n",
    "\n",
    "updated_data['rank'].plot.box()\n",
    "plt.show()"
   ]
  },
  {
   "cell_type": "code",
   "execution_count": 43,
   "id": "4a523e36",
   "metadata": {},
   "outputs": [
    {
     "data": {
      "image/png": "[encoded data removed]",
      "text/plain": [
       "<Figure size 432x288 with 1 Axes>"
      ]
     },
     "metadata": {
      "needs_background": "light"
     },
     "output_type": "display_data"
    }
   ],
   "source": [
    "updated_data['discipline'].plot.box()\n",
    "plt.show()"
   ]
  },
  {
   "cell_type": "code",
   "execution_count": 44,
   "id": "bc296100",
   "metadata": {},
   "outputs": [
    {
     "data": {
      "image/png": "[encoded data removed]",
      "text/plain": [
       "<Figure size 432x288 with 1 Axes>"
      ]
     },
     "metadata": {
      "needs_background": "light"
     },
     "output_type": "display_data"
    }
   ],
   "source": [
    "updated_data['yrs.since.phd'].plot.box()\n",
    "plt.show()"
   ]
  },
  {
   "cell_type": "code",
   "execution_count": 45,
   "id": "440516c1",
   "metadata": {},
   "outputs": [
    {
     "data": {
      "image/png": "[encoded data removed]",
      "text/plain": [
       "<Figure size 432x288 with 1 Axes>"
      ]
     },
     "metadata": {
      "needs_background": "light"
     },
     "output_type": "display_data"
    }
   ],
   "source": [
    "updated_data['yrs.service'].plot.box()\n",
    "plt.show()"
   ]
  },
  {
   "cell_type": "code",
   "execution_count": 46,
   "id": "ab28431b",
   "metadata": {},
   "outputs": [
    {
     "data": {
      "image/png": "[encoded data removed]",
      "text/plain": [
       "<Figure size 432x288 with 1 Axes>"
      ]
     },
     "metadata": {
      "needs_background": "light"
     },
     "output_type": "display_data"
    }
   ],
   "source": [
    "updated_data['sex'].plot.box()\n",
    "plt.show()"
   ]
  },
  {
   "cell_type": "code",
   "execution_count": 47,
   "id": "4b4623cb",
   "metadata": {},
   "outputs": [
    {
     "data": {
      "image/png": "[encoded data removed]",
      "text/plain": [
       "<Figure size 432x288 with 1 Axes>"
      ]
     },
     "metadata": {
      "needs_background": "light"
     },
     "output_type": "display_data"
    }
   ],
   "source": [
    "updated_data['salary'].plot.box()\n",
    "plt.show()"
   ]
  },
  {
   "cell_type": "code",
   "execution_count": 48,
   "id": "77da1bb0",
   "metadata": {},
   "outputs": [
    {
     "data": {
      "text/plain": [
       "array([[0.65066837, 0.91540317, 0.25754973, 0.02966908, 0.3300584 ,\n",
       "        0.86091884],\n",
       "       [0.65066837, 0.91540317, 0.17985426, 0.12429986, 0.3300584 ,\n",
       "        1.96667226],\n",
       "       [1.95857752, 0.91540317, 1.42298184, 1.12509795, 0.3300584 ,\n",
       "        1.12249537],\n",
       "       ...,\n",
       "       [0.65066837, 1.09241483, 1.52944617, 0.56856036, 0.3300584 ,\n",
       "        0.39564018],\n",
       "       [0.65066837, 1.09241483, 0.20862311, 0.20128433, 0.3300584 ,\n",
       "        0.60750187],\n",
       "       [1.95857752, 1.09241483, 1.11219995, 1.04811348, 0.3300584 ,\n",
       "        1.08001725]])"
      ]
     },
     "execution_count": 48,
     "metadata": {},
     "output_type": "execute_result"
    }
   ],
   "source": [
    "from scipy.stats import zscore\n",
    "z=np.abs(zscore(updated_data))\n",
    "z"
   ]
  },
  {
   "cell_type": "code",
   "execution_count": 49,
   "id": "d48a6d79",
   "metadata": {},
   "outputs": [
    {
     "data": {
      "text/plain": [
       "(array([  9,  19,  24,  34,  35,  43,  47,  48,  52,  63,  68,  84,  90,\n",
       "        103, 114, 119, 123, 127, 131, 132, 133, 148, 153, 179, 186, 218,\n",
       "        230, 231, 233, 237, 245, 253, 254, 274, 316, 323, 330, 332, 334,\n",
       "        341, 358, 361, 364], dtype=int64),\n",
       " array([4, 4, 4, 4, 4, 5, 4, 4, 4, 4, 4, 4, 4, 4, 4, 4, 4, 4, 3, 4, 4, 4,\n",
       "        4, 4, 4, 4, 4, 4, 4, 4, 4, 4, 4, 4, 4, 4, 3, 4, 4, 4, 4, 4, 5],\n",
       "       dtype=int64))"
      ]
     },
     "execution_count": 49,
     "metadata": {},
     "output_type": "execute_result"
    }
   ],
   "source": [
    "# index no.\n",
    "\n",
    "np.where(z>3)"
   ]
  },
  {
   "cell_type": "code",
   "execution_count": 50,
   "id": "b6cd636d",
   "metadata": {},
   "outputs": [
    {
     "data": {
      "text/plain": [
       "3.0297668523315746"
      ]
     },
     "execution_count": 50,
     "metadata": {},
     "output_type": "execute_result"
    }
   ],
   "source": [
    "z[9][4]"
   ]
  },
  {
   "cell_type": "code",
   "execution_count": 51,
   "id": "748d2429",
   "metadata": {},
   "outputs": [
    {
     "data": {
      "text/plain": [
       "3.034410248101501"
      ]
     },
     "execution_count": 51,
     "metadata": {},
     "output_type": "execute_result"
    }
   ],
   "source": [
    "z[364][5]"
   ]
  },
  {
   "cell_type": "code",
   "execution_count": 52,
   "id": "3236dc5d",
   "metadata": {},
   "outputs": [
    {
     "data": {
      "text/html": [
       "<div>\n",
       "<style scoped>\n",
       "    .dataframe tbody tr th:only-of-type {\n",
       "        vertical-align: middle;\n",
       "    }\n",
       "\n",
       "    .dataframe tbody tr th {\n",
       "        vertical-align: top;\n",
       "    }\n",
       "\n",
       "    .dataframe thead th {\n",
       "        text-align: right;\n",
       "    }\n",
       "</style>\n",
       "<table border=\"1\" class=\"dataframe\">\n",
       "  <thead>\n",
       "    <tr style=\"text-align: right;\">\n",
       "      <th></th>\n",
       "      <th>rank</th>\n",
       "      <th>discipline</th>\n",
       "      <th>yrs.since.phd</th>\n",
       "      <th>yrs.service</th>\n",
       "      <th>sex</th>\n",
       "      <th>salary</th>\n",
       "    </tr>\n",
       "  </thead>\n",
       "  <tbody>\n",
       "    <tr>\n",
       "      <th>0</th>\n",
       "      <td>3</td>\n",
       "      <td>2</td>\n",
       "      <td>19</td>\n",
       "      <td>18</td>\n",
       "      <td>2</td>\n",
       "      <td>139750</td>\n",
       "    </tr>\n",
       "    <tr>\n",
       "      <th>1</th>\n",
       "      <td>3</td>\n",
       "      <td>2</td>\n",
       "      <td>20</td>\n",
       "      <td>16</td>\n",
       "      <td>2</td>\n",
       "      <td>173200</td>\n",
       "    </tr>\n",
       "    <tr>\n",
       "      <th>2</th>\n",
       "      <td>1</td>\n",
       "      <td>2</td>\n",
       "      <td>4</td>\n",
       "      <td>3</td>\n",
       "      <td>2</td>\n",
       "      <td>79750</td>\n",
       "    </tr>\n",
       "    <tr>\n",
       "      <th>3</th>\n",
       "      <td>3</td>\n",
       "      <td>2</td>\n",
       "      <td>45</td>\n",
       "      <td>39</td>\n",
       "      <td>2</td>\n",
       "      <td>115000</td>\n",
       "    </tr>\n",
       "    <tr>\n",
       "      <th>4</th>\n",
       "      <td>3</td>\n",
       "      <td>2</td>\n",
       "      <td>40</td>\n",
       "      <td>41</td>\n",
       "      <td>2</td>\n",
       "      <td>141500</td>\n",
       "    </tr>\n",
       "    <tr>\n",
       "      <th>...</th>\n",
       "      <td>...</td>\n",
       "      <td>...</td>\n",
       "      <td>...</td>\n",
       "      <td>...</td>\n",
       "      <td>...</td>\n",
       "      <td>...</td>\n",
       "    </tr>\n",
       "    <tr>\n",
       "      <th>392</th>\n",
       "      <td>3</td>\n",
       "      <td>1</td>\n",
       "      <td>33</td>\n",
       "      <td>30</td>\n",
       "      <td>2</td>\n",
       "      <td>103106</td>\n",
       "    </tr>\n",
       "    <tr>\n",
       "      <th>393</th>\n",
       "      <td>3</td>\n",
       "      <td>1</td>\n",
       "      <td>31</td>\n",
       "      <td>19</td>\n",
       "      <td>2</td>\n",
       "      <td>150564</td>\n",
       "    </tr>\n",
       "    <tr>\n",
       "      <th>394</th>\n",
       "      <td>3</td>\n",
       "      <td>1</td>\n",
       "      <td>42</td>\n",
       "      <td>25</td>\n",
       "      <td>2</td>\n",
       "      <td>101738</td>\n",
       "    </tr>\n",
       "    <tr>\n",
       "      <th>395</th>\n",
       "      <td>3</td>\n",
       "      <td>1</td>\n",
       "      <td>25</td>\n",
       "      <td>15</td>\n",
       "      <td>2</td>\n",
       "      <td>95329</td>\n",
       "    </tr>\n",
       "    <tr>\n",
       "      <th>396</th>\n",
       "      <td>1</td>\n",
       "      <td>1</td>\n",
       "      <td>8</td>\n",
       "      <td>4</td>\n",
       "      <td>2</td>\n",
       "      <td>81035</td>\n",
       "    </tr>\n",
       "  </tbody>\n",
       "</table>\n",
       "<p>354 rows × 6 columns</p>\n",
       "</div>"
      ],
      "text/plain": [
       "     rank  discipline  yrs.since.phd  yrs.service  sex  salary\n",
       "0       3           2             19           18    2  139750\n",
       "1       3           2             20           16    2  173200\n",
       "2       1           2              4            3    2   79750\n",
       "3       3           2             45           39    2  115000\n",
       "4       3           2             40           41    2  141500\n",
       "..    ...         ...            ...          ...  ...     ...\n",
       "392     3           1             33           30    2  103106\n",
       "393     3           1             31           19    2  150564\n",
       "394     3           1             42           25    2  101738\n",
       "395     3           1             25           15    2   95329\n",
       "396     1           1              8            4    2   81035\n",
       "\n",
       "[354 rows x 6 columns]"
      ]
     },
     "execution_count": 52,
     "metadata": {},
     "output_type": "execute_result"
    }
   ],
   "source": [
    "updated_new=updated_data[(z<3).all(axis=1)]\n",
    "updated_new"
   ]
  },
  {
   "cell_type": "code",
   "execution_count": 53,
   "id": "fee66e21",
   "metadata": {},
   "outputs": [
    {
     "data": {
      "text/html": [
       "<div>\n",
       "<style scoped>\n",
       "    .dataframe tbody tr th:only-of-type {\n",
       "        vertical-align: middle;\n",
       "    }\n",
       "\n",
       "    .dataframe tbody tr th {\n",
       "        vertical-align: top;\n",
       "    }\n",
       "\n",
       "    .dataframe thead th {\n",
       "        text-align: right;\n",
       "    }\n",
       "</style>\n",
       "<table border=\"1\" class=\"dataframe\">\n",
       "  <thead>\n",
       "    <tr style=\"text-align: right;\">\n",
       "      <th></th>\n",
       "      <th>rank</th>\n",
       "      <th>discipline</th>\n",
       "      <th>yrs.since.phd</th>\n",
       "      <th>yrs.service</th>\n",
       "      <th>sex</th>\n",
       "      <th>salary</th>\n",
       "    </tr>\n",
       "  </thead>\n",
       "  <tbody>\n",
       "    <tr>\n",
       "      <th>count</th>\n",
       "      <td>397.000000</td>\n",
       "      <td>397.000000</td>\n",
       "      <td>397.000000</td>\n",
       "      <td>397.000000</td>\n",
       "      <td>397.000000</td>\n",
       "      <td>397.000000</td>\n",
       "    </tr>\n",
       "    <tr>\n",
       "      <th>mean</th>\n",
       "      <td>2.501259</td>\n",
       "      <td>1.544081</td>\n",
       "      <td>22.314861</td>\n",
       "      <td>17.614610</td>\n",
       "      <td>1.901763</td>\n",
       "      <td>113706.458438</td>\n",
       "    </tr>\n",
       "    <tr>\n",
       "      <th>std</th>\n",
       "      <td>0.767472</td>\n",
       "      <td>0.498682</td>\n",
       "      <td>12.887003</td>\n",
       "      <td>13.006024</td>\n",
       "      <td>0.298010</td>\n",
       "      <td>30289.038695</td>\n",
       "    </tr>\n",
       "    <tr>\n",
       "      <th>min</th>\n",
       "      <td>1.000000</td>\n",
       "      <td>1.000000</td>\n",
       "      <td>1.000000</td>\n",
       "      <td>0.000000</td>\n",
       "      <td>1.000000</td>\n",
       "      <td>57800.000000</td>\n",
       "    </tr>\n",
       "    <tr>\n",
       "      <th>25%</th>\n",
       "      <td>2.000000</td>\n",
       "      <td>1.000000</td>\n",
       "      <td>12.000000</td>\n",
       "      <td>7.000000</td>\n",
       "      <td>2.000000</td>\n",
       "      <td>91000.000000</td>\n",
       "    </tr>\n",
       "    <tr>\n",
       "      <th>50%</th>\n",
       "      <td>3.000000</td>\n",
       "      <td>2.000000</td>\n",
       "      <td>21.000000</td>\n",
       "      <td>16.000000</td>\n",
       "      <td>2.000000</td>\n",
       "      <td>107300.000000</td>\n",
       "    </tr>\n",
       "    <tr>\n",
       "      <th>75%</th>\n",
       "      <td>3.000000</td>\n",
       "      <td>2.000000</td>\n",
       "      <td>32.000000</td>\n",
       "      <td>27.000000</td>\n",
       "      <td>2.000000</td>\n",
       "      <td>134185.000000</td>\n",
       "    </tr>\n",
       "    <tr>\n",
       "      <th>max</th>\n",
       "      <td>3.000000</td>\n",
       "      <td>2.000000</td>\n",
       "      <td>56.000000</td>\n",
       "      <td>60.000000</td>\n",
       "      <td>2.000000</td>\n",
       "      <td>231545.000000</td>\n",
       "    </tr>\n",
       "  </tbody>\n",
       "</table>\n",
       "</div>"
      ],
      "text/plain": [
       "             rank  discipline  yrs.since.phd  yrs.service         sex  \\\n",
       "count  397.000000  397.000000     397.000000   397.000000  397.000000   \n",
       "mean     2.501259    1.544081      22.314861    17.614610    1.901763   \n",
       "std      0.767472    0.498682      12.887003    13.006024    0.298010   \n",
       "min      1.000000    1.000000       1.000000     0.000000    1.000000   \n",
       "25%      2.000000    1.000000      12.000000     7.000000    2.000000   \n",
       "50%      3.000000    2.000000      21.000000    16.000000    2.000000   \n",
       "75%      3.000000    2.000000      32.000000    27.000000    2.000000   \n",
       "max      3.000000    2.000000      56.000000    60.000000    2.000000   \n",
       "\n",
       "              salary  \n",
       "count     397.000000  \n",
       "mean   113706.458438  \n",
       "std     30289.038695  \n",
       "min     57800.000000  \n",
       "25%     91000.000000  \n",
       "50%    107300.000000  \n",
       "75%    134185.000000  \n",
       "max    231545.000000  "
      ]
     },
     "execution_count": 53,
     "metadata": {},
     "output_type": "execute_result"
    }
   ],
   "source": [
    "updated_data.describe()"
   ]
  },
  {
   "cell_type": "code",
   "execution_count": 54,
   "id": "407cd50c",
   "metadata": {},
   "outputs": [
    {
     "data": {
      "text/plain": [
       "(397, 6)"
      ]
     },
     "execution_count": 54,
     "metadata": {},
     "output_type": "execute_result"
    }
   ],
   "source": [
    "updated_data.shape"
   ]
  },
  {
   "cell_type": "code",
   "execution_count": 55,
   "id": "2177467c",
   "metadata": {},
   "outputs": [
    {
     "data": {
      "text/plain": [
       "(354, 6)"
      ]
     },
     "execution_count": 55,
     "metadata": {},
     "output_type": "execute_result"
    }
   ],
   "source": [
    "updated_new.shape"
   ]
  },
  {
   "cell_type": "code",
   "execution_count": 56,
   "id": "87f53675",
   "metadata": {},
   "outputs": [
    {
     "name": "stdout",
     "output_type": "stream",
     "text": [
      "0.0010831234256926951 %\n"
     ]
    }
   ],
   "source": [
    "# percentage data loss:-\n",
    "\n",
    "loss_percent=(397-354)/(397*100)\n",
    "print(loss_percent,'%')"
   ]
  },
  {
   "cell_type": "code",
   "execution_count": 57,
   "id": "e513623b",
   "metadata": {},
   "outputs": [
    {
     "data": {
      "text/plain": [
       "array([[ 0.69269655,  0.91540317, -0.12729454,  0.25061906,  0.3300584 ,\n",
       "         0.93169352],\n",
       "       [ 0.69269655,  0.91540317, -0.04917821,  0.10511199,  0.3300584 ,\n",
       "         1.6936509 ],\n",
       "       [-1.67925898,  0.91540317, -1.62812069, -1.28803213,  0.3300584 ,\n",
       "        -1.25423316],\n",
       "       ...,\n",
       "       [ 0.69269655, -1.09241483,  1.39552477,  0.69878852,  0.3300584 ,\n",
       "        -0.26938799],\n",
       "       [ 0.69269655, -1.09241483,  0.32017198,  0.02856739,  0.3300584 ,\n",
       "        -0.52698208],\n",
       "       [-1.67925898, -1.09241483, -1.13497737, -1.12348349,  0.3300584 ,\n",
       "        -1.18781833]])"
      ]
     },
     "execution_count": 57,
     "metadata": {},
     "output_type": "execute_result"
    }
   ],
   "source": [
    "# Transforming the data to remove skewness:-\n",
    "\n",
    "import sklearn\n",
    "from sklearn.preprocessing import power_transform\n",
    "X=power_transform(updated_data,method='yeo-johnson')\n",
    "X"
   ]
  },
  {
   "cell_type": "code",
   "execution_count": 58,
   "id": "c4fb4046",
   "metadata": {},
   "outputs": [
    {
     "data": {
      "text/plain": [
       "2"
      ]
     },
     "execution_count": 58,
     "metadata": {},
     "output_type": "execute_result"
    }
   ],
   "source": [
    "X.ndim"
   ]
  },
  {
   "cell_type": "code",
   "execution_count": 59,
   "id": "de8f4eaa",
   "metadata": {},
   "outputs": [
    {
     "data": {
      "text/plain": [
       "1.0089885825812506e-15"
      ]
     },
     "execution_count": 59,
     "metadata": {},
     "output_type": "execute_result"
    }
   ],
   "source": [
    "X.mean()"
   ]
  },
  {
   "cell_type": "code",
   "execution_count": 60,
   "id": "f0d18512",
   "metadata": {},
   "outputs": [
    {
     "data": {
      "text/plain": [
       "1.0"
      ]
     },
     "execution_count": 60,
     "metadata": {},
     "output_type": "execute_result"
    }
   ],
   "source": [
    "X.std()"
   ]
  },
  {
   "cell_type": "code",
   "execution_count": 61,
   "id": "b30c070b",
   "metadata": {},
   "outputs": [
    {
     "data": {
      "text/html": [
       "<div>\n",
       "<style scoped>\n",
       "    .dataframe tbody tr th:only-of-type {\n",
       "        vertical-align: middle;\n",
       "    }\n",
       "\n",
       "    .dataframe tbody tr th {\n",
       "        vertical-align: top;\n",
       "    }\n",
       "\n",
       "    .dataframe thead th {\n",
       "        text-align: right;\n",
       "    }\n",
       "</style>\n",
       "<table border=\"1\" class=\"dataframe\">\n",
       "  <thead>\n",
       "    <tr style=\"text-align: right;\">\n",
       "      <th></th>\n",
       "      <th>rank</th>\n",
       "      <th>discipline</th>\n",
       "      <th>yrs.since.phd</th>\n",
       "      <th>yrs.service</th>\n",
       "      <th>sex</th>\n",
       "    </tr>\n",
       "  </thead>\n",
       "  <tbody>\n",
       "    <tr>\n",
       "      <th>0</th>\n",
       "      <td>3</td>\n",
       "      <td>2</td>\n",
       "      <td>19</td>\n",
       "      <td>18</td>\n",
       "      <td>2</td>\n",
       "    </tr>\n",
       "    <tr>\n",
       "      <th>1</th>\n",
       "      <td>3</td>\n",
       "      <td>2</td>\n",
       "      <td>20</td>\n",
       "      <td>16</td>\n",
       "      <td>2</td>\n",
       "    </tr>\n",
       "    <tr>\n",
       "      <th>2</th>\n",
       "      <td>1</td>\n",
       "      <td>2</td>\n",
       "      <td>4</td>\n",
       "      <td>3</td>\n",
       "      <td>2</td>\n",
       "    </tr>\n",
       "    <tr>\n",
       "      <th>3</th>\n",
       "      <td>3</td>\n",
       "      <td>2</td>\n",
       "      <td>45</td>\n",
       "      <td>39</td>\n",
       "      <td>2</td>\n",
       "    </tr>\n",
       "    <tr>\n",
       "      <th>4</th>\n",
       "      <td>3</td>\n",
       "      <td>2</td>\n",
       "      <td>40</td>\n",
       "      <td>41</td>\n",
       "      <td>2</td>\n",
       "    </tr>\n",
       "    <tr>\n",
       "      <th>...</th>\n",
       "      <td>...</td>\n",
       "      <td>...</td>\n",
       "      <td>...</td>\n",
       "      <td>...</td>\n",
       "      <td>...</td>\n",
       "    </tr>\n",
       "    <tr>\n",
       "      <th>392</th>\n",
       "      <td>3</td>\n",
       "      <td>1</td>\n",
       "      <td>33</td>\n",
       "      <td>30</td>\n",
       "      <td>2</td>\n",
       "    </tr>\n",
       "    <tr>\n",
       "      <th>393</th>\n",
       "      <td>3</td>\n",
       "      <td>1</td>\n",
       "      <td>31</td>\n",
       "      <td>19</td>\n",
       "      <td>2</td>\n",
       "    </tr>\n",
       "    <tr>\n",
       "      <th>394</th>\n",
       "      <td>3</td>\n",
       "      <td>1</td>\n",
       "      <td>42</td>\n",
       "      <td>25</td>\n",
       "      <td>2</td>\n",
       "    </tr>\n",
       "    <tr>\n",
       "      <th>395</th>\n",
       "      <td>3</td>\n",
       "      <td>1</td>\n",
       "      <td>25</td>\n",
       "      <td>15</td>\n",
       "      <td>2</td>\n",
       "    </tr>\n",
       "    <tr>\n",
       "      <th>396</th>\n",
       "      <td>1</td>\n",
       "      <td>1</td>\n",
       "      <td>8</td>\n",
       "      <td>4</td>\n",
       "      <td>2</td>\n",
       "    </tr>\n",
       "  </tbody>\n",
       "</table>\n",
       "<p>354 rows × 5 columns</p>\n",
       "</div>"
      ],
      "text/plain": [
       "     rank  discipline  yrs.since.phd  yrs.service  sex\n",
       "0       3           2             19           18    2\n",
       "1       3           2             20           16    2\n",
       "2       1           2              4            3    2\n",
       "3       3           2             45           39    2\n",
       "4       3           2             40           41    2\n",
       "..    ...         ...            ...          ...  ...\n",
       "392     3           1             33           30    2\n",
       "393     3           1             31           19    2\n",
       "394     3           1             42           25    2\n",
       "395     3           1             25           15    2\n",
       "396     1           1              8            4    2\n",
       "\n",
       "[354 rows x 5 columns]"
      ]
     },
     "execution_count": 61,
     "metadata": {},
     "output_type": "execute_result"
    }
   ],
   "source": [
    "# Independent Variable;\n",
    "\n",
    "x=updated_new.iloc[:,0:-1]\n",
    "x"
   ]
  },
  {
   "cell_type": "code",
   "execution_count": 65,
   "id": "897e5b34",
   "metadata": {},
   "outputs": [
    {
     "data": {
      "text/plain": [
       "0      139750\n",
       "1      173200\n",
       "2       79750\n",
       "3      115000\n",
       "4      141500\n",
       "        ...  \n",
       "392    103106\n",
       "393    150564\n",
       "394    101738\n",
       "395     95329\n",
       "396     81035\n",
       "Name: salary, Length: 354, dtype: int64"
      ]
     },
     "execution_count": 65,
     "metadata": {},
     "output_type": "execute_result"
    }
   ],
   "source": [
    "# Target Variable;\n",
    "\n",
    "y=updated_new.iloc[:,-1]\n",
    "y"
   ]
  },
  {
   "cell_type": "markdown",
   "id": "cf3680a6",
   "metadata": {},
   "source": [
    "# Machine Learning Algorithms Training and Testing Process:-"
   ]
  },
  {
   "cell_type": "code",
   "execution_count": 63,
   "id": "4eaf7d54",
   "metadata": {},
   "outputs": [],
   "source": [
    "from sklearn.linear_model import LinearRegression\n",
    "from sklearn.model_selection import train_test_split\n",
    "from sklearn.metrics import r2_score,mean_squared_error"
   ]
  },
  {
   "cell_type": "code",
   "execution_count": 66,
   "id": "5af42abf",
   "metadata": {
    "scrolled": true
   },
   "outputs": [
    {
     "name": "stdout",
     "output_type": "stream",
     "text": [
      "At random state {0} 0.4333567233819555\n",
      "At random state {0} 0.42969388785069695\n",
      "\n",
      "\n",
      "At random state {1} 0.42962249455210166\n",
      "At random state {1} 0.4308988928347466\n",
      "\n",
      "\n",
      "At random state {2} 0.4287256496033154\n",
      "At random state {2} 0.4673661293771877\n",
      "\n",
      "\n",
      "At random state {3} 0.4327326988938268\n",
      "At random state {3} 0.45085452691551964\n",
      "\n",
      "\n",
      "At random state {4} 0.40866022249111955\n",
      "At random state {4} 0.4967824663328191\n",
      "\n",
      "\n",
      "At random state {5} 0.4360164813243871\n",
      "At random state {5} 0.4356181628364758\n",
      "\n",
      "\n",
      "At random state {6} 0.4152532072854941\n",
      "At random state {6} 0.4915113037449509\n",
      "\n",
      "\n",
      "At random state {7} 0.4415241727823378\n",
      "At random state {7} 0.40017056253913585\n",
      "\n",
      "\n",
      "At random state {8} 0.44850332265222703\n",
      "At random state {8} 0.3852067794450579\n",
      "\n",
      "\n",
      "At random state {9} 0.4503842559487582\n",
      "At random state {9} 0.30762551475781796\n",
      "\n",
      "\n",
      "At random state {10} 0.4293138206353836\n",
      "At random state {10} 0.4571148923366307\n",
      "\n",
      "\n",
      "At random state {11} 0.4324059775523771\n",
      "At random state {11} 0.41860064627266313\n",
      "\n",
      "\n",
      "At random state {12} 0.4352871158103866\n",
      "At random state {12} 0.4306547118731573\n",
      "\n",
      "\n",
      "At random state {13} 0.4295451801102329\n",
      "At random state {13} 0.44243425447718165\n",
      "\n",
      "\n",
      "At random state {14} 0.430974186498023\n",
      "At random state {14} 0.4546815611545607\n",
      "\n",
      "\n",
      "At random state {15} 0.4330940578726771\n",
      "At random state {15} 0.4205686834547073\n",
      "\n",
      "\n",
      "At random state {16} 0.43257821452799594\n",
      "At random state {16} 0.4208491481746506\n",
      "\n",
      "\n",
      "At random state {17} 0.4341356815453604\n",
      "At random state {17} 0.43861626039278623\n",
      "\n",
      "\n",
      "At random state {18} 0.4332935323085112\n",
      "At random state {18} 0.44290670057347037\n",
      "\n",
      "\n",
      "At random state {19} 0.43627309935514635\n",
      "At random state {19} 0.43313233088657366\n",
      "\n",
      "\n",
      "At random state {20} 0.41678758444940756\n",
      "At random state {20} 0.514063090559749\n",
      "\n",
      "\n",
      "At random state {21} 0.4127587950109147\n",
      "At random state {21} 0.5299854547283454\n",
      "\n",
      "\n",
      "At random state {22} 0.4563305222305355\n",
      "At random state {22} 0.3481044631700302\n",
      "\n",
      "\n",
      "At random state {23} 0.42905278182826656\n",
      "At random state {23} 0.46983095894560967\n",
      "\n",
      "\n",
      "At random state {24} 0.43491316402767854\n",
      "At random state {24} 0.4298528951544208\n",
      "\n",
      "\n",
      "At random state {25} 0.44031183791659345\n",
      "At random state {25} 0.4124376628007492\n",
      "\n",
      "\n",
      "At random state {26} 0.41308233715426423\n",
      "At random state {26} 0.5215363084996258\n",
      "\n",
      "\n",
      "At random state {27} 0.45988913676783905\n",
      "At random state {27} 0.3195081413704346\n",
      "\n",
      "\n",
      "At random state {28} 0.42466018919426296\n",
      "At random state {28} 0.49099968052397036\n",
      "\n",
      "\n",
      "At random state {29} 0.44444036149473876\n",
      "At random state {29} 0.4018533143817943\n",
      "\n",
      "\n",
      "At random state {30} 0.43336616969622666\n",
      "At random state {30} 0.44075882346876116\n",
      "\n",
      "\n",
      "At random state {31} 0.46583988335723314\n",
      "At random state {31} 0.2970840111034877\n",
      "\n",
      "\n",
      "At random state {32} 0.4472766107813938\n",
      "At random state {32} 0.3939372466987535\n",
      "\n",
      "\n",
      "At random state {33} 0.4433574917873119\n",
      "At random state {33} 0.40097886453838205\n",
      "\n",
      "\n",
      "At random state {34} 0.4213524739509318\n",
      "At random state {34} 0.49157454617638674\n",
      "\n",
      "\n",
      "At random state {35} 0.4318438024150756\n",
      "At random state {35} 0.4270258215596925\n",
      "\n",
      "\n",
      "At random state {36} 0.4411085323841577\n",
      "At random state {36} 0.4067523293670243\n",
      "\n",
      "\n",
      "At random state {37} 0.4281936708960854\n",
      "At random state {37} 0.46272886940693714\n",
      "\n",
      "\n",
      "At random state {38} 0.4353604272597389\n",
      "At random state {38} 0.42428561346087\n",
      "\n",
      "\n",
      "At random state {39} 0.45231077871851355\n",
      "At random state {39} 0.3256761456075903\n",
      "\n",
      "\n",
      "At random state {40} 0.45312700777195236\n",
      "At random state {40} 0.3063112177581211\n",
      "\n",
      "\n",
      "At random state {41} 0.4214755939863666\n",
      "At random state {41} 0.4649994150661134\n",
      "\n",
      "\n",
      "At random state {42} 0.4392930387311479\n",
      "At random state {42} 0.4065058277892749\n",
      "\n",
      "\n",
      "At random state {43} 0.4480386214943556\n",
      "At random state {43} 0.37481932804471296\n",
      "\n",
      "\n",
      "At random state {44} 0.42662027997542684\n",
      "At random state {44} 0.4485281741331075\n",
      "\n",
      "\n",
      "At random state {45} 0.42825198626995464\n",
      "At random state {45} 0.47617980745189536\n",
      "\n",
      "\n",
      "At random state {46} 0.42070654795818363\n",
      "At random state {46} 0.5155490233638368\n",
      "\n",
      "\n",
      "At random state {47} 0.4424150320211383\n",
      "At random state {47} 0.39610253614518465\n",
      "\n",
      "\n",
      "At random state {48} 0.4488045906047513\n",
      "At random state {48} 0.38765220174017523\n",
      "\n",
      "\n",
      "At random state {49} 0.4462894671526596\n",
      "At random state {49} 0.3663395415788552\n",
      "\n",
      "\n",
      "At random state {50} 0.44688065514195807\n",
      "At random state {50} 0.38306116722632577\n",
      "\n",
      "\n",
      "At random state {51} 0.45801708728637613\n",
      "At random state {51} 0.3384763038300035\n",
      "\n",
      "\n",
      "At random state {52} 0.4178956162924615\n",
      "At random state {52} 0.48271999964021617\n",
      "\n",
      "\n",
      "At random state {53} 0.44844324898394916\n",
      "At random state {53} 0.3801048957555201\n",
      "\n",
      "\n",
      "At random state {54} 0.4358510375897021\n",
      "At random state {54} 0.31116790785294013\n",
      "\n",
      "\n",
      "At random state {55} 0.4392078617681209\n",
      "At random state {55} 0.41343076570997406\n",
      "\n",
      "\n",
      "At random state {56} 0.41394673287510797\n",
      "At random state {56} 0.5050511249992136\n",
      "\n",
      "\n",
      "At random state {57} 0.4306331236471308\n",
      "At random state {57} 0.45838300507970653\n",
      "\n",
      "\n",
      "At random state {58} 0.4285315552899911\n",
      "At random state {58} 0.4759938411424861\n",
      "\n",
      "\n",
      "At random state {59} 0.44024548480495995\n",
      "At random state {59} 0.4141188621939442\n",
      "\n",
      "\n",
      "At random state {60} 0.46091182822330345\n",
      "At random state {60} 0.3336030362636663\n",
      "\n",
      "\n",
      "At random state {61} 0.40462298779416217\n",
      "At random state {61} 0.5575568709497734\n",
      "\n",
      "\n",
      "At random state {62} 0.42966873130259753\n",
      "At random state {62} 0.44324347255603047\n",
      "\n",
      "\n",
      "At random state {63} 0.43995191143448453\n",
      "At random state {63} 0.4209548362026929\n",
      "\n",
      "\n",
      "At random state {64} 0.41474984126843784\n",
      "At random state {64} 0.48819224390210614\n",
      "\n",
      "\n",
      "At random state {65} 0.4449232945301733\n",
      "At random state {65} 0.372763808214122\n",
      "\n",
      "\n",
      "At random state {66} 0.4115813258598211\n",
      "At random state {66} 0.533892343566299\n",
      "\n",
      "\n",
      "At random state {67} 0.4248992047477115\n",
      "At random state {67} 0.35871296527596697\n",
      "\n",
      "\n",
      "At random state {68} 0.4563535760248344\n",
      "At random state {68} 0.35229381185249586\n",
      "\n",
      "\n",
      "At random state {69} 0.4415895618975655\n",
      "At random state {69} 0.41753368695035287\n",
      "\n",
      "\n",
      "At random state {70} 0.4542411971472522\n",
      "At random state {70} 0.36420649055632925\n",
      "\n",
      "\n",
      "At random state {71} 0.4228633649741158\n",
      "At random state {71} 0.4881312298488889\n",
      "\n",
      "\n",
      "At random state {72} 0.436697393760895\n",
      "At random state {72} 0.43050736802708167\n",
      "\n",
      "\n",
      "At random state {73} 0.4363999755633172\n",
      "At random state {73} 0.4389206840803963\n",
      "\n",
      "\n",
      "At random state {74} 0.40935778960823066\n",
      "At random state {74} 0.5400492036122528\n",
      "\n",
      "\n",
      "At random state {75} 0.4523172124327931\n",
      "At random state {75} 0.35017406764087144\n",
      "\n",
      "\n",
      "At random state {76} 0.440627740462082\n",
      "At random state {76} 0.4124432955815057\n",
      "\n",
      "\n",
      "At random state {77} 0.4182931000738027\n",
      "At random state {77} 0.51230862425695\n",
      "\n",
      "\n",
      "At random state {78} 0.4475433394276831\n",
      "At random state {78} 0.36600051743756534\n",
      "\n",
      "\n",
      "At random state {79} 0.39522250107802726\n",
      "At random state {79} 0.5560786750273904\n",
      "\n",
      "\n",
      "At random state {80} 0.43900898445226855\n",
      "At random state {80} 0.4283746134875386\n",
      "\n",
      "\n",
      "At random state {81} 0.4489364279351403\n",
      "At random state {81} 0.3806501419738797\n",
      "\n",
      "\n",
      "At random state {82} 0.473266606036542\n",
      "At random state {82} 0.22886242987599426\n",
      "\n",
      "\n",
      "At random state {83} 0.4655663039327388\n",
      "At random state {83} 0.3057916775724927\n",
      "\n",
      "\n",
      "At random state {84} 0.42395376486211855\n",
      "At random state {84} 0.4692323269278661\n",
      "\n",
      "\n",
      "At random state {85} 0.4286665150731571\n",
      "At random state {85} 0.45601985569188097\n",
      "\n",
      "\n",
      "At random state {86} 0.44963356558451484\n",
      "At random state {86} 0.3526197630028549\n",
      "\n",
      "\n",
      "At random state {87} 0.446186109055274\n",
      "At random state {87} 0.39445723948426203\n",
      "\n",
      "\n",
      "At random state {88} 0.4284529846193925\n",
      "At random state {88} 0.4605169194377724\n",
      "\n",
      "\n",
      "At random state {89} 0.42935313405727227\n",
      "At random state {89} 0.4475498588388438\n",
      "\n",
      "\n",
      "At random state {90} 0.4406423764455599\n",
      "At random state {90} 0.41362710521416945\n",
      "\n",
      "\n",
      "At random state {91} 0.4398231154818929\n",
      "At random state {91} 0.41058031496337577\n",
      "\n",
      "\n",
      "At random state {92} 0.4215245870672021\n",
      "At random state {92} 0.4865498819812162\n",
      "\n",
      "\n",
      "At random state {93} 0.42440285327133587\n",
      "At random state {93} 0.465098248171125\n",
      "\n",
      "\n",
      "At random state {94} 0.4454071611527094\n",
      "At random state {94} 0.41069206794176216\n",
      "\n",
      "\n",
      "At random state {95} 0.48125780551331787\n",
      "At random state {95} 0.27769529378957725\n",
      "\n",
      "\n",
      "At random state {96} 0.42616132136747986\n",
      "At random state {96} 0.4599879362997146\n",
      "\n",
      "\n",
      "At random state {97} 0.4375016675301262\n",
      "At random state {97} 0.3844491153651791\n",
      "\n",
      "\n",
      "At random state {98} 0.43727168508037184\n",
      "At random state {98} 0.433957296304066\n",
      "\n",
      "\n",
      "At random state {99} 0.44227249416537395\n",
      "At random state {99} 0.3994584864299635\n",
      "\n",
      "\n"
     ]
    }
   ],
   "source": [
    "# linear Regression;\n",
    "\n",
    "lr=LinearRegression()\n",
    "\n",
    "for i in range(0,100):\n",
    "    x_train,x_test,y_train,y_test=train_test_split(x,y,test_size=0.2,random_state=i)\n",
    "    lr.fit(x_train,y_train)\n",
    "    pred_train=lr.predict(x_train)\n",
    "    pred_test=lr.predict(x_test)\n",
    "    train_accuracy=r2_score(y_train,pred_train)\n",
    "    test_accuracy=r2_score(y_test,pred_test)\n",
    "    print(\"At random state\",{i},train_accuracy)\n",
    "    print(\"At random state\",{i},test_accuracy)\n",
    "    print(\"\\n\")"
   ]
  },
  {
   "cell_type": "code",
   "execution_count": 67,
   "id": "d39b5a3d",
   "metadata": {},
   "outputs": [],
   "source": [
    "x_train,x_test,y_train,y_test=train_test_split(x,y,test_size=0.20,random_state=61)"
   ]
  },
  {
   "cell_type": "code",
   "execution_count": 68,
   "id": "9eebf30f",
   "metadata": {},
   "outputs": [
    {
     "name": "stdout",
     "output_type": "stream",
     "text": [
      "0.5781492215069708\n"
     ]
    }
   ],
   "source": [
    "pred_test=lr.predict(x_test)\n",
    "print(r2_score(y_test,pred_test))"
   ]
  },
  {
   "cell_type": "code",
   "execution_count": 69,
   "id": "441cb12c",
   "metadata": {},
   "outputs": [
    {
     "name": "stdout",
     "output_type": "stream",
     "text": [
      "2 [0.42418712 0.33066892] 0.37742802179078067 -0.5455220736834134 0.5781492215069708\n",
      "\n",
      "\n",
      "3 [0.42275966 0.40781974 0.29797074] 0.37618338094457054 -0.5455220736834134 0.5781492215069708\n",
      "\n",
      "\n",
      "4 [0.37363671 0.48559067 0.36024456 0.364981  ] 0.3961132386151227 -0.5455220736834134 0.5781492215069708\n",
      "\n",
      "\n",
      "5 [0.36081251 0.50429352 0.40872907 0.23453949 0.38098076] 0.37787106986760943 -0.5455220736834134 0.5781492215069708\n",
      "\n",
      "\n",
      "6 [0.28756403 0.51252187 0.41593665 0.4198949  0.29596681 0.38880281] 0.3867811781669632 -0.5455220736834134 0.5781492215069708\n",
      "\n",
      "\n",
      "7 [0.39783092 0.4972304  0.40957    0.46096649 0.30137138 0.2989911\n",
      " 0.41559491] 0.39736502788602684 -0.5455220736834134 0.5781492215069708\n",
      "\n",
      "\n",
      "8 [0.40997445 0.44866644 0.48001334 0.4365159  0.40079733 0.34718134\n",
      " 0.32338098 0.39790851] 0.4055547869396678 -0.5455220736834134 0.5781492215069708\n",
      "\n",
      "\n",
      "9 [0.48704447 0.41257372 0.48078726 0.45501924 0.34985475 0.27630846\n",
      " 0.30814147 0.28075409 0.40046724] 0.3834389657644546 -0.5455220736834134 0.5781492215069708\n",
      "\n",
      "\n"
     ]
    }
   ],
   "source": [
    "# Cross Validation:-\n",
    "\n",
    "train_accuracy=r2_score(y_train,pred_train)\n",
    "test_accuracy=r2_score(y_test,pred_test)\n",
    "\n",
    "from sklearn.model_selection import cross_val_score\n",
    "for j in range(2,10):\n",
    "    cv_score=cross_val_score(lr,x,y,cv=j)\n",
    "    cv_mean=cv_score.mean()\n",
    "    \n",
    "    print(j,cv_score,cv_mean,train_accuracy,test_accuracy)\n",
    "    print(\"\\n\")"
   ]
  },
  {
   "cell_type": "markdown",
   "id": "3163678c",
   "metadata": {},
   "source": [
    "Since,cv_s and accuracys are almost same. so, we are heading with a good approach."
   ]
  },
  {
   "cell_type": "markdown",
   "id": "3f34f929",
   "metadata": {},
   "source": [
    "# Hyperparameter Tuning:-"
   ]
  },
  {
   "cell_type": "code",
   "execution_count": 70,
   "id": "25aeeffd",
   "metadata": {},
   "outputs": [],
   "source": [
    "# Regularization;\n",
    "\n",
    "from sklearn.linear_model import Lasso\n",
    "from sklearn.model_selection import GridSearchCV"
   ]
  },
  {
   "cell_type": "code",
   "execution_count": 71,
   "id": "d73877fd",
   "metadata": {},
   "outputs": [
    {
     "name": "stdout",
     "output_type": "stream",
     "text": [
      "{'alpha': 0.0001, 'random_state': 0}\n"
     ]
    }
   ],
   "source": [
    "parameters={'alpha':[0.0001,0.001,0.01,0.1,1,10],'random_state':list(range(0,10))}\n",
    "ls=Lasso()\n",
    "clf= GridSearchCV(ls,parameters)\n",
    "clf.fit(x_train,y_train)\n",
    "print(clf.best_params_)"
   ]
  },
  {
   "cell_type": "code",
   "execution_count": 72,
   "id": "29f91319",
   "metadata": {},
   "outputs": [
    {
     "data": {
      "text/plain": [
       "40.462298779416194"
      ]
     },
     "execution_count": 72,
     "metadata": {},
     "output_type": "execute_result"
    }
   ],
   "source": [
    "# final model training;\n",
    "\n",
    "ls=Lasso(alpha=0.0001,random_state=0)\n",
    "ls.fit(x_train,y_train)\n",
    "ls_score_training=ls.score(x_train,y_train)\n",
    "pred_ls=ls.predict(x_test)\n",
    "ls_score_training*100"
   ]
  },
  {
   "cell_type": "code",
   "execution_count": 73,
   "id": "9ce26fed",
   "metadata": {},
   "outputs": [
    {
     "name": "stdout",
     "output_type": "stream",
     "text": [
      "{'criterion': 'mae', 'max_features': 'sqrt'}\n"
     ]
    }
   ],
   "source": [
    "# Ensemble technique:-\n",
    "\n",
    "from sklearn.ensemble import RandomForestRegressor\n",
    "parameters={'criterion':['mse','mae'],'max_features':['auto','sqrt','log2']}\n",
    "rf= RandomForestRegressor()\n",
    "clf=GridSearchCV(rf,parameters)\n",
    "clf.fit(x_train,y_train)\n",
    "print(clf.best_params_)"
   ]
  },
  {
   "cell_type": "code",
   "execution_count": 74,
   "id": "731e7049",
   "metadata": {},
   "outputs": [
    {
     "name": "stdout",
     "output_type": "stream",
     "text": [
      "0.8429905291591493\n",
      "R2_Score 0.5241933882991812\n",
      "Cross_Val_Score 84.29905291591493\n"
     ]
    }
   ],
   "source": [
    "rf=RandomForestRegressor(criterion='mae',max_features='sqrt')\n",
    "rf.fit(x_train,y_train)\n",
    "train_r2=rf.score(x_train,y_train)\n",
    "pred_decision=rf.predict(x_test)\n",
    "print(train_r2)\n",
    "rf2=r2_score(y_test,pred_decision)\n",
    "print('R2_Score',rf2)\n",
    "rfs=cross_val_score(rf,x,y,cv=5)\n",
    "rfc=rf.score(x_train,y_train)\n",
    "print('Cross_Val_Score',rfc*100)"
   ]
  },
  {
   "cell_type": "code",
   "execution_count": null,
   "id": "18625fb0",
   "metadata": {},
   "outputs": [],
   "source": [
    "#So, we are getting our model accuracy and Cross-Validation-Score both as \n",
    "#84.3% which shows our model is performing \n",
    "#\"good enough\"."
   ]
  },
  {
   "cell_type": "markdown",
   "id": "3f0642da",
   "metadata": {},
   "source": [
    "# Saving the model:-"
   ]
  },
  {
   "cell_type": "code",
   "execution_count": 75,
   "id": "100747f3",
   "metadata": {},
   "outputs": [],
   "source": [
    "import pickle\n",
    "filename='Salary.pkl'\n",
    "pickle.dump(rf,open(filename,'wb'))"
   ]
  },
  {
   "cell_type": "markdown",
   "id": "efeb0baf",
   "metadata": {},
   "source": [
    "# Conclusion:-"
   ]
  },
  {
   "cell_type": "code",
   "execution_count": 76,
   "id": "8b24c1aa",
   "metadata": {},
   "outputs": [],
   "source": [
    "loaded_model=pickle.load(open('Salary.pkl','rb'))"
   ]
  },
  {
   "cell_type": "code",
   "execution_count": 77,
   "id": "aa51480c",
   "metadata": {},
   "outputs": [
    {
     "data": {
      "text/html": [
       "<div>\n",
       "<style scoped>\n",
       "    .dataframe tbody tr th:only-of-type {\n",
       "        vertical-align: middle;\n",
       "    }\n",
       "\n",
       "    .dataframe tbody tr th {\n",
       "        vertical-align: top;\n",
       "    }\n",
       "\n",
       "    .dataframe thead th {\n",
       "        text-align: right;\n",
       "    }\n",
       "</style>\n",
       "<table border=\"1\" class=\"dataframe\">\n",
       "  <thead>\n",
       "    <tr style=\"text-align: right;\">\n",
       "      <th></th>\n",
       "      <th>0</th>\n",
       "      <th>1</th>\n",
       "      <th>2</th>\n",
       "      <th>3</th>\n",
       "      <th>4</th>\n",
       "      <th>5</th>\n",
       "      <th>6</th>\n",
       "      <th>7</th>\n",
       "      <th>8</th>\n",
       "      <th>9</th>\n",
       "      <th>...</th>\n",
       "      <th>61</th>\n",
       "      <th>62</th>\n",
       "      <th>63</th>\n",
       "      <th>64</th>\n",
       "      <th>65</th>\n",
       "      <th>66</th>\n",
       "      <th>67</th>\n",
       "      <th>68</th>\n",
       "      <th>69</th>\n",
       "      <th>70</th>\n",
       "    </tr>\n",
       "  </thead>\n",
       "  <tbody>\n",
       "    <tr>\n",
       "      <th>Predicted</th>\n",
       "      <td>85429.04</td>\n",
       "      <td>141060.82</td>\n",
       "      <td>123986.015</td>\n",
       "      <td>111295.75</td>\n",
       "      <td>113203.455</td>\n",
       "      <td>90662.22</td>\n",
       "      <td>80424.9</td>\n",
       "      <td>107659.62</td>\n",
       "      <td>120760.795</td>\n",
       "      <td>85277.75</td>\n",
       "      <td>...</td>\n",
       "      <td>117623.585</td>\n",
       "      <td>109036.165</td>\n",
       "      <td>132301.355</td>\n",
       "      <td>85653.55</td>\n",
       "      <td>106120.4</td>\n",
       "      <td>134073.075</td>\n",
       "      <td>113667.01</td>\n",
       "      <td>102371.66</td>\n",
       "      <td>124595.515</td>\n",
       "      <td>130087.205</td>\n",
       "    </tr>\n",
       "    <tr>\n",
       "      <th>Original</th>\n",
       "      <td>85429.04</td>\n",
       "      <td>141060.82</td>\n",
       "      <td>123986.015</td>\n",
       "      <td>111295.75</td>\n",
       "      <td>113203.455</td>\n",
       "      <td>90662.22</td>\n",
       "      <td>80424.9</td>\n",
       "      <td>107659.62</td>\n",
       "      <td>120760.795</td>\n",
       "      <td>85277.75</td>\n",
       "      <td>...</td>\n",
       "      <td>117623.585</td>\n",
       "      <td>109036.165</td>\n",
       "      <td>132301.355</td>\n",
       "      <td>85653.55</td>\n",
       "      <td>106120.4</td>\n",
       "      <td>134073.075</td>\n",
       "      <td>113667.01</td>\n",
       "      <td>102371.66</td>\n",
       "      <td>124595.515</td>\n",
       "      <td>130087.205</td>\n",
       "    </tr>\n",
       "  </tbody>\n",
       "</table>\n",
       "<p>2 rows × 71 columns</p>\n",
       "</div>"
      ],
      "text/plain": [
       "                 0          1           2          3           4         5   \\\n",
       "Predicted  85429.04  141060.82  123986.015  111295.75  113203.455  90662.22   \n",
       "Original   85429.04  141060.82  123986.015  111295.75  113203.455  90662.22   \n",
       "\n",
       "                6          7           8         9   ...          61  \\\n",
       "Predicted  80424.9  107659.62  120760.795  85277.75  ...  117623.585   \n",
       "Original   80424.9  107659.62  120760.795  85277.75  ...  117623.585   \n",
       "\n",
       "                   62          63        64        65          66         67  \\\n",
       "Predicted  109036.165  132301.355  85653.55  106120.4  134073.075  113667.01   \n",
       "Original   109036.165  132301.355  85653.55  106120.4  134073.075  113667.01   \n",
       "\n",
       "                  68          69          70  \n",
       "Predicted  102371.66  124595.515  130087.205  \n",
       "Original   102371.66  124595.515  130087.205  \n",
       "\n",
       "[2 rows x 71 columns]"
      ]
     },
     "execution_count": 77,
     "metadata": {},
     "output_type": "execute_result"
    }
   ],
   "source": [
    "conclusion=pd.DataFrame([loaded_model.predict(x_test)[:],pred_decision[:]],\n",
    "                        index=['Predicted','Original'])\n",
    "conclusion"
   ]
  },
  {
   "cell_type": "code",
   "execution_count": 78,
   "id": "dfb14916",
   "metadata": {},
   "outputs": [
    {
     "data": {
      "text/html": [
       "<div>\n",
       "<style scoped>\n",
       "    .dataframe tbody tr th:only-of-type {\n",
       "        vertical-align: middle;\n",
       "    }\n",
       "\n",
       "    .dataframe tbody tr th {\n",
       "        vertical-align: top;\n",
       "    }\n",
       "\n",
       "    .dataframe thead th {\n",
       "        text-align: right;\n",
       "    }\n",
       "</style>\n",
       "<table border=\"1\" class=\"dataframe\">\n",
       "  <thead>\n",
       "    <tr style=\"text-align: right;\">\n",
       "      <th></th>\n",
       "      <th>Predicted</th>\n",
       "      <th>Original</th>\n",
       "    </tr>\n",
       "  </thead>\n",
       "  <tbody>\n",
       "    <tr>\n",
       "      <th>0</th>\n",
       "      <td>85429.040</td>\n",
       "      <td>85429.040</td>\n",
       "    </tr>\n",
       "    <tr>\n",
       "      <th>1</th>\n",
       "      <td>141060.820</td>\n",
       "      <td>141060.820</td>\n",
       "    </tr>\n",
       "    <tr>\n",
       "      <th>2</th>\n",
       "      <td>123986.015</td>\n",
       "      <td>123986.015</td>\n",
       "    </tr>\n",
       "    <tr>\n",
       "      <th>3</th>\n",
       "      <td>111295.750</td>\n",
       "      <td>111295.750</td>\n",
       "    </tr>\n",
       "    <tr>\n",
       "      <th>4</th>\n",
       "      <td>113203.455</td>\n",
       "      <td>113203.455</td>\n",
       "    </tr>\n",
       "    <tr>\n",
       "      <th>...</th>\n",
       "      <td>...</td>\n",
       "      <td>...</td>\n",
       "    </tr>\n",
       "    <tr>\n",
       "      <th>66</th>\n",
       "      <td>134073.075</td>\n",
       "      <td>134073.075</td>\n",
       "    </tr>\n",
       "    <tr>\n",
       "      <th>67</th>\n",
       "      <td>113667.010</td>\n",
       "      <td>113667.010</td>\n",
       "    </tr>\n",
       "    <tr>\n",
       "      <th>68</th>\n",
       "      <td>102371.660</td>\n",
       "      <td>102371.660</td>\n",
       "    </tr>\n",
       "    <tr>\n",
       "      <th>69</th>\n",
       "      <td>124595.515</td>\n",
       "      <td>124595.515</td>\n",
       "    </tr>\n",
       "    <tr>\n",
       "      <th>70</th>\n",
       "      <td>130087.205</td>\n",
       "      <td>130087.205</td>\n",
       "    </tr>\n",
       "  </tbody>\n",
       "</table>\n",
       "<p>71 rows × 2 columns</p>\n",
       "</div>"
      ],
      "text/plain": [
       "     Predicted    Original\n",
       "0    85429.040   85429.040\n",
       "1   141060.820  141060.820\n",
       "2   123986.015  123986.015\n",
       "3   111295.750  111295.750\n",
       "4   113203.455  113203.455\n",
       "..         ...         ...\n",
       "66  134073.075  134073.075\n",
       "67  113667.010  113667.010\n",
       "68  102371.660  102371.660\n",
       "69  124595.515  124595.515\n",
       "70  130087.205  130087.205\n",
       "\n",
       "[71 rows x 2 columns]"
      ]
     },
     "execution_count": 78,
     "metadata": {},
     "output_type": "execute_result"
    }
   ],
   "source": [
    "conclusion.transpose()"
   ]
  },
  {
   "cell_type": "code",
   "execution_count": null,
   "id": "dd965d15",
   "metadata": {},
   "outputs": [],
   "source": []
  }
 ],
 "metadata": {
  "kernelspec": {
   "display_name": "Python 3",
   "language": "python",
   "name": "python3"
  },
  "language_info": {
   "codemirror_mode": {
    "name": "ipython",
    "version": 3
   },
   "file_extension": ".py",
   "mimetype": "text/x-python",
   "name": "python",
   "nbconvert_exporter": "python",
   "pygments_lexer": "ipython3",
   "version": "3.8.8"
  }
 },
 "nbformat": 4,
 "nbformat_minor": 5
}
